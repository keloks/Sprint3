{
 "cells": [
  {
   "cell_type": "markdown",
   "id": "01ddd73c",
   "metadata": {},
   "source": [
    "## Exercici 1\n",
    "L'exercici consisteix a crear un programa que et classifiqui una variable numèrica \n",
    "en funció de l’escala Suspès/Aprovat/Notable/Excel·lent. "
   ]
  },
  {
   "cell_type": "code",
   "execution_count": 1,
   "id": "b2069af1",
   "metadata": {},
   "outputs": [],
   "source": [
    "#%% Functions\n",
    "def stringIsNumber(string): #Could not find a better solution to transform string input to number\n",
    "    \n",
    "    try:\n",
    "        \n",
    "        num = float(string)\n",
    "        \n",
    "        return num, True\n",
    "    \n",
    "    except ValueError:        \n",
    "        return None, False\n",
    "\n",
    "#This is an override\n",
    "def round(number): #round up for >=.5\n",
    "    return int(number+0.5)\n",
    "        "
   ]
  },
  {
   "cell_type": "code",
   "execution_count": 2,
   "id": "9b5fc12b",
   "metadata": {},
   "outputs": [
    {
     "name": "stdout",
     "output_type": "stream",
     "text": [
      "Introdueixi la seva nota (entre 0 i 10) d\n",
      "La not aha de ser un numero\n",
      "Introdueixi la seva nota (entre 0 i 10) -5\n",
      "La nota ha d'estar entre 0 i 10\n",
      "Introdueixi la seva nota (entre 0 i 10) 11\n",
      "La nota ha d'estar entre 0 i 10\n",
      "Introdueixi la seva nota (entre 0 i 10) 4.499\n",
      "Suspes\n"
     ]
    }
   ],
   "source": [
    "#%% Ex1 round up for >=.5\n",
    "\n",
    "auxVar = False\n",
    "\n",
    "while not auxVar:\n",
    "    grade = input('Introdueixi la seva nota (entre 0 i 10) ')\n",
    "    numberGrade, auxVar = stringIsNumber(grade)\n",
    "    \n",
    "    if not auxVar:\n",
    "        print('La not aha de ser un numero')\n",
    "    \n",
    "    elif numberGrade < 0 or numberGrade > 10:\n",
    "        print('La nota ha d\\'estar entre 0 i 10')\n",
    "        auxVar = False\n",
    "        \n",
    "roundedGrade = round(numberGrade)\n",
    "\n",
    "if roundedGrade < 5:\n",
    "    print('Suspes')\n",
    "\n",
    "elif roundedGrade < 7:\n",
    "    print('Aprovat')\n",
    "\n",
    "elif roundedGrade < 9:\n",
    "    print('Notable')\n",
    "    \n",
    "else:\n",
    "    print('Excel.lent')        "
   ]
  },
  {
   "cell_type": "markdown",
   "id": "774be289",
   "metadata": {},
   "source": [
    "## Exercici 2\n",
    "Utilitzant el següent tutorial Programiz: Python Input, Output and Import crea un programa que et pregunti dos números. T’ha de mostrar un missatge dient si el primer és més gran, el segon és més gran o són iguals."
   ]
  },
  {
   "cell_type": "code",
   "execution_count": 3,
   "id": "398bd497",
   "metadata": {},
   "outputs": [
    {
     "name": "stdout",
     "output_type": "stream",
     "text": [
      "Introdueixi un numero d\n",
      "Introdueixi un altre numero f\n",
      "Els dos inputs han de ser numeros\n",
      "Introdueixi un numero d\n",
      "Introdueixi un altre numero 5\n",
      "Els dos inputs han de ser numeros\n",
      "Introdueixi un numero 10\n",
      "Introdueixi un altre numero 50\n",
      "El segon numero es mes gran\n"
     ]
    }
   ],
   "source": [
    "#%% Ex2 \n",
    "\n",
    "auxVar2 = False\n",
    "\n",
    "while not auxVar2 :\n",
    "    \n",
    "    num1, conti1 = stringIsNumber(input('Introdueixi un numero '))\n",
    "    num2, conti2 = stringIsNumber(input('Introdueixi un altre numero '))\n",
    "        \n",
    "    auxVar2 = conti1 and conti2\n",
    "    \n",
    "    if auxVar2 : \n",
    "        \n",
    "        if num1 > num2:\n",
    "            print('El primer numero es mes gran')\n",
    "        \n",
    "        elif num1 < num2:\n",
    "            print('El segon numero es mes gran')\n",
    "            \n",
    "        else:\n",
    "            print('Els numeros son iguals')\n",
    "            \n",
    "    else:\n",
    "        print('Els dos inputs han de ser numeros')\n",
    "        "
   ]
  },
  {
   "cell_type": "markdown",
   "id": "d23f5dba",
   "metadata": {},
   "source": [
    "## Exercici 3\n",
    "Crea un programa que et pregunti el teu nom, i et demani un número. Si el número és 0, hauria de mostrar un missatge d’error. En cas contrari, hauria de mostrar el nom repetit tants cops com indiqui el número. Per exemple, “Joan Joan Joan”."
   ]
  },
  {
   "cell_type": "code",
   "execution_count": 4,
   "id": "f6d565eb",
   "metadata": {},
   "outputs": [
    {
     "name": "stdout",
     "output_type": "stream",
     "text": [
      "Introdueixi el seu nom miquel\n",
      "Introdueixi el nombre de repeticions d\n",
      "Ha de ser un numero\n",
      "Introdueixi el nombre de repeticions 0\n",
      "Introdueixi un numero major que 0\n",
      "Introdueixi el nombre de repeticions 3\n",
      "miquel miquel miquel \n"
     ]
    }
   ],
   "source": [
    "#%% Ex3\n",
    "\n",
    "name = input('Introdueixi el seu nom ')\n",
    "\n",
    "auxVar3 = False\n",
    "\n",
    "while not auxVar3:\n",
    "    num, auxVar3 = stringIsNumber(input('Introdueixi el nombre de repeticions '))\n",
    "    \n",
    "    if not auxVar3:\n",
    "        print('Ha de ser un numero')\n",
    "        \n",
    "    elif auxVar3 and num > 0:\n",
    "        print((name + ' ') * int(num))\n",
    "        \n",
    "    else:\n",
    "        print('Introdueixi un numero major que 0')\n",
    "        auxVar3 = False\n",
    "    \n",
    "    \n",
    "        "
   ]
  }
 ],
 "metadata": {
  "anaconda-cloud": {},
  "kernelspec": {
   "display_name": "Python 3 (ipykernel)",
   "language": "python",
   "name": "python3"
  },
  "language_info": {
   "codemirror_mode": {
    "name": "ipython",
    "version": 3
   },
   "file_extension": ".py",
   "mimetype": "text/x-python",
   "name": "python",
   "nbconvert_exporter": "python",
   "pygments_lexer": "ipython3",
   "version": "3.7.11"
  }
 },
 "nbformat": 4,
 "nbformat_minor": 5
}
