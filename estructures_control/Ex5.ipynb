{
 "cells": [
  {
   "cell_type": "code",
   "execution_count": 2,
   "id": "5c17c0f1",
   "metadata": {},
   "outputs": [],
   "source": [
    "import numpy as np\n",
    "\n",
    "#%% Functions\n",
    "def listGen():\n",
    "    \n",
    "    dim = np.random.randint(2,15)\n",
    "    \n",
    "    return list(np.random.randint(0, dim+1, size=dim))\n",
    "\n",
    "def numberIsPosition(aArray, size):    \n",
    "    \n",
    "    #a list where each element is its index\n",
    "    auxArr = np.array(range(size)) #in np.array, == means for each element\n",
    "    \n",
    "    boolArr = aArray == auxArr\n",
    "    \n",
    "    return aArray[boolArr]       "
   ]
  },
  {
   "cell_type": "code",
   "execution_count": 6,
   "id": "bb6223dc",
   "metadata": {
    "scrolled": true
   },
   "outputs": [
    {
     "name": "stdout",
     "output_type": "stream",
     "text": [
      "[0, 1, 6, 1, 5, 0]\n",
      "[0 1]\n",
      "2 numeros coincideixen amb la seva posicio\n"
     ]
    }
   ],
   "source": [
    "#%% Ex5\n",
    "\n",
    "aList = listGen()\n",
    "\n",
    "defList = numberIsPosition(np.array(aList), len(aList))\n",
    "\n",
    "print(aList)\n",
    "\n",
    "print(defList)\n",
    "#Don't know which is better, len(), or .size[0]\n",
    "print(len(defList), 'numeros coincideixen amb la seva posicio')"
   ]
  },
  {
   "cell_type": "code",
   "execution_count": null,
   "id": "b7584a62",
   "metadata": {},
   "outputs": [],
   "source": []
  },
  {
   "cell_type": "code",
   "execution_count": null,
   "id": "23b93e62",
   "metadata": {},
   "outputs": [],
   "source": []
  }
 ],
 "metadata": {
  "kernelspec": {
   "display_name": "Python 3 (ipykernel)",
   "language": "python",
   "name": "python3"
  },
  "language_info": {
   "codemirror_mode": {
    "name": "ipython",
    "version": 3
   },
   "file_extension": ".py",
   "mimetype": "text/x-python",
   "name": "python",
   "nbconvert_exporter": "python",
   "pygments_lexer": "ipython3",
   "version": "3.7.11"
  }
 },
 "nbformat": 4,
 "nbformat_minor": 5
}
