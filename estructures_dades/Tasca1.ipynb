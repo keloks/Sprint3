{
 "cells": [
  {
   "cell_type": "code",
   "execution_count": null,
   "id": "3c8416b9",
   "metadata": {},
   "outputs": [],
   "source": [
    "import numpy as np"
   ]
  },
  {
   "cell_type": "markdown",
   "id": "91e842c3",
   "metadata": {},
   "source": [
    "## Exercici1\n",
    "Crea una llista que agrupi els mesos de l’any en trimestres (1T: Gener, Febrer i Març, 2T: Abril, Maig, Juny...), és a dir, una llista amb 4 llistes dins."
   ]
  },
  {
   "cell_type": "code",
   "execution_count": null,
   "id": "ca738537",
   "metadata": {},
   "outputs": [],
   "source": [
    "#Ex1\n",
    "monthList = [['Gener', 'Febrer', 'Marc'],['Abril','Maig','Juny'],\n",
    "             ['Juliol','Agost', 'Setembre'],['Octubre', 'Novembre', 'Desembre']]\n",
    "\n",
    "print(monthList) #Print the list as is\n",
    "for i in monthList: #Print the lists within the lists\n",
    "    print(i)\n",
    "    \n",
    "    "
   ]
  },
  {
   "cell_type": "markdown",
   "id": "bc8afa0e",
   "metadata": {},
   "source": [
    "## Exercici 2\n",
    "Crea un codi que et permeti accedir a:\n",
    "\n",
    "   - El segon mes del primer trimestre\n",
    "   - Els mesos del primer trimestre\n",
    "   - Setembre i octubre\n",
    "   "
   ]
  },
  {
   "cell_type": "code",
   "execution_count": null,
   "id": "aeaaab6b",
   "metadata": {},
   "outputs": [],
   "source": [
    "req1 = monthList[0][1] #get second item in first list\n",
    "print(req1)\n",
    "\n",
    "req2 = monthList[0][:] #get the whole first list\n",
    "print(req2)\n",
    "\n",
    "for t in monthList: #Iterate through the whole list of lists and check for month names\n",
    "    \n",
    "    for m in t:\n",
    "        \n",
    "        if m == 'Setembre' or m == 'Octubre': #If there is such month, print it\n",
    "            \n",
    "            print(m)\n",
    "            \n",
    "            "
   ]
  },
  {
   "cell_type": "markdown",
   "id": "4f61d16f",
   "metadata": {},
   "source": [
    "## Exercici 3\n",
    "\n",
    "\n",
    "Crea una llista amb nombres desordenats i respon a les següents preguntes:\n",
    "\n",
    "   - Quants números hi ha?\n",
    "   - Quantes vegades apareix el número 3\n",
    "   - Quantes vegades apareixen els nombres 3 i 4?\n",
    "   - Quin és el número més gran?\n",
    "   - Quins són els 3 números més petits?\n",
    "   - Quin és el rang d’aquesta llista?\n"
   ]
  },
  {
   "cell_type": "code",
   "execution_count": null,
   "id": "785a9a7a",
   "metadata": {},
   "outputs": [],
   "source": [
    "#Functions\n",
    "\n",
    "def checkForNumber(numberList, number):\n",
    "    \n",
    "    count = 0\n",
    "    \n",
    "    for n in numberList: \n",
    "        \n",
    "        if number in str(n): #Changing the int to a string we can check if any of its digits is a hit\n",
    "            count += 1\n",
    "            \n",
    "    return count\n",
    "\n",
    "def minAndRemove(randList):\n",
    "    \n",
    "    listOfMins = []\n",
    "    \n",
    "    for i in range(3):\n",
    "        \n",
    "        lowest = min(randList) #Get the min and move it to a new list\n",
    "        listOfMins.append(lowest)\n",
    "        randList.remove(lowest)\n",
    "    \n",
    "    return listOfMins"
   ]
  },
  {
   "cell_type": "code",
   "execution_count": null,
   "id": "ca0b6417",
   "metadata": {},
   "outputs": [],
   "source": [
    "size = np.random.randint(3,51) #random list length\n",
    "\n",
    "randList = np.random.randint(0,101,size) #list of random numbers with previously defined length\n",
    "\n",
    "print('Hi ha', size, 'numeros') #Already have len(list) stored in size\n",
    "\n",
    "count3 = checkForNumber(randList, '3') #Check for a specified number in a list\n",
    "print('El numero 3 apareix', count3, 'vegades')\n",
    "\n",
    "count4 = checkForNumber(randList, '4') \n",
    "print('Els numeros 3 i 4 apareixen', count3+count4, 'vegades')\n",
    "\n",
    "highest = max(randList)\n",
    "print('El nombre maxim es', highest)\n",
    "\n",
    "listOfMins = minAndRemove(list(randList)) #Don't know if it's optimal to get the minimum and remove from the list\n",
    "print ('Els tres numeros mes baixos son', listOfMins)\n",
    "\n",
    "rangeOfList = list(range(listOfMins[0], highest)) #Is this the range of a list?\n",
    "\n",
    "print('El rang de la matriu es de', len(rangeOfList))"
   ]
  },
  {
   "cell_type": "markdown",
   "id": "0642c722",
   "metadata": {},
   "source": [
    "## Exercici 4\n",
    "\n",
    "Crea un diccionari de la següent forma i respon a les preguntes:\n",
    "\n",
    "compra = { \"Pomes\" : {\"Qty\": 5, \"€\": 0.42}, \"Peres\" : {\"Qty\": 3, \"€\": 0.66} }\n",
    "\n",
    "   - Afegeix alguna fruita més\n",
    "   - Quant han costat les peres en total?\n",
    "   - Quantes fruites hem comprat en total?\n",
    "   - Quina és la fruita més cara?\n"
   ]
  },
  {
   "cell_type": "code",
   "execution_count": null,
   "id": "d9c8bff0",
   "metadata": {},
   "outputs": [],
   "source": [
    "#%% Functions\n",
    "def comparePrices(compra):\n",
    "    \n",
    "    expensivePrice = 0 #initialize \"empty\" auxiliar variables for the price and the fruit\n",
    "    expensiveFruit = ''\n",
    "    \n",
    "    for fruit,d in compra.items():         \n",
    "        \n",
    "        if d['€'] > expensivePrice: #if the price is higher, replace expensiveFruit with the new fruit\n",
    "            \n",
    "            expensiveFruit = fruit\n",
    "    \n",
    "    return expensiveFruit\n",
    "\n",
    "          "
   ]
  },
  {
   "cell_type": "code",
   "execution_count": 4,
   "id": "32dad2bf",
   "metadata": {},
   "outputs": [
    {
     "name": "stdout",
     "output_type": "stream",
     "text": [
      "Febrer\n",
      "['Gener', 'Febrer', 'Marc']\n",
      "Setembre\n",
      "Octubre\n"
     ]
    }
   ],
   "source": [
    "compra = {'Pomes' : {'qty': 5 ,'€': 0.42}, 'Peres' : {'qty': 3,'€': 0.66}}\n",
    "\n",
    "#Afegir una fruita\n",
    "compra['Taronges'] = {'qty': 10,'€': 4.45}\n",
    "\n",
    "print('Les peres han costat', compra['Peres']['qty'] * compra['Peres']['€'])\n",
    "\n",
    "print ('S\\'han comprat', len(compra), 'fruites')\n",
    "\n",
    "print('La fruita mes cara son ' + comparePrices(compra))"
   ]
  }
 ],
 "metadata": {
  "anaconda-cloud": {},
  "kernelspec": {
   "display_name": "Python 3 (ipykernel)",
   "language": "python",
   "name": "python3"
  },
  "language_info": {
   "codemirror_mode": {
    "name": "ipython",
    "version": 3
   },
   "file_extension": ".py",
   "mimetype": "text/x-python",
   "name": "python",
   "nbconvert_exporter": "python",
   "pygments_lexer": "ipython3",
   "version": "3.7.11"
  }
 },
 "nbformat": 4,
 "nbformat_minor": 5
}
