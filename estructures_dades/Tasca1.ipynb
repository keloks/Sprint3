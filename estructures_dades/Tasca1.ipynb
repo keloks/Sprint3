{
 "cells": [
  {
   "cell_type": "code",
   "execution_count": 1,
   "id": "3c8416b9",
   "metadata": {},
   "outputs": [],
   "source": [
    "import numpy as np"
   ]
  },
  {
   "cell_type": "markdown",
   "id": "91e842c3",
   "metadata": {},
   "source": [
    "## Exercici1\n",
    "Crea una llista que agrupi els mesos de l’any en trimestres (1T: Gener, Febrer i Març, 2T: Abril, Maig, Juny...), és a dir, una llista amb 4 llistes dins."
   ]
  },
  {
   "cell_type": "code",
   "execution_count": 2,
   "id": "2607a14f",
   "metadata": {},
   "outputs": [],
   "source": [
    "#Ex1\n",
    "monthList = [['Gener', 'Febrer', 'Marc'],['Abril','Maig','Juny'],\n",
    "             ['Juliol','Agost', 'Setembre'],['Octubre', 'Novembre', 'Desembre']]"
   ]
  },
  {
   "cell_type": "markdown",
   "id": "9b311184",
   "metadata": {},
   "source": [
    "Printing the list as is:"
   ]
  },
  {
   "cell_type": "code",
   "execution_count": 3,
   "id": "00d91f16",
   "metadata": {},
   "outputs": [
    {
     "name": "stdout",
     "output_type": "stream",
     "text": [
      "[['Gener', 'Febrer', 'Marc'], ['Abril', 'Maig', 'Juny'], ['Juliol', 'Agost', 'Setembre'], ['Octubre', 'Novembre', 'Desembre']]\n"
     ]
    }
   ],
   "source": [
    "print(monthList) #Print the list as is"
   ]
  },
  {
   "cell_type": "markdown",
   "id": "f4697512",
   "metadata": {},
   "source": [
    "Printing each element of the list"
   ]
  },
  {
   "cell_type": "code",
   "execution_count": 4,
   "id": "ca738537",
   "metadata": {},
   "outputs": [
    {
     "name": "stdout",
     "output_type": "stream",
     "text": [
      "['Gener', 'Febrer', 'Marc']\n",
      "['Abril', 'Maig', 'Juny']\n",
      "['Juliol', 'Agost', 'Setembre']\n",
      "['Octubre', 'Novembre', 'Desembre']\n"
     ]
    }
   ],
   "source": [
    "for i in monthList: #Print the lists within the lists\n",
    "    print(i)\n",
    "    \n",
    "    "
   ]
  },
  {
   "cell_type": "markdown",
   "id": "bc8afa0e",
   "metadata": {},
   "source": [
    "## Exercici 2\n",
    "Crea un codi que et permeti accedir a:\n",
    "\n",
    "   - El segon mes del primer trimestre\n",
    "   - Els mesos del primer trimestre\n",
    "   - Setembre i octubre\n",
    "   "
   ]
  },
  {
   "cell_type": "markdown",
   "id": "539b9d66",
   "metadata": {},
   "source": [
    "Second item in first list:"
   ]
  },
  {
   "cell_type": "code",
   "execution_count": 5,
   "id": "2429204a",
   "metadata": {},
   "outputs": [
    {
     "name": "stdout",
     "output_type": "stream",
     "text": [
      "Febrer\n"
     ]
    }
   ],
   "source": [
    "req1 = monthList[0][1]\n",
    "print(req1)"
   ]
  },
  {
   "cell_type": "markdown",
   "id": "8a8fdb19",
   "metadata": {},
   "source": [
    "First 3 months"
   ]
  },
  {
   "cell_type": "code",
   "execution_count": 6,
   "id": "823e2afe",
   "metadata": {},
   "outputs": [
    {
     "name": "stdout",
     "output_type": "stream",
     "text": [
      "['Gener', 'Febrer', 'Marc']\n"
     ]
    }
   ],
   "source": [
    "req2 = monthList[0][:] \n",
    "print(req2)"
   ]
  },
  {
   "cell_type": "markdown",
   "id": "d8c496bf",
   "metadata": {},
   "source": [
    "9th and 10th months aka September and October, using negative indexing to practice them."
   ]
  },
  {
   "cell_type": "code",
   "execution_count": 7,
   "id": "81a79065",
   "metadata": {},
   "outputs": [
    {
     "name": "stdout",
     "output_type": "stream",
     "text": [
      "Setembre Octubre\n"
     ]
    }
   ],
   "source": [
    "req3 = (monthList[-1][-3], monthList[-2][-1])\n",
    "print(req3[-1], req3[-2])"
   ]
  },
  {
   "cell_type": "markdown",
   "id": "a147f3b9",
   "metadata": {},
   "source": [
    "This chunck of code will retrieve September and October, if they appear, independently of their position\n",
    "in the list.\n",
    "\n",
    "```python\n",
    "for t in monthList: #Iterate through the whole list of lists and check for month names\n",
    "    \n",
    "    for m in t:\n",
    "        \n",
    "        if m == 'Setembre' or m == 'Octubre': #If there is such month, print it\n",
    "            \n",
    "            print(m)\n",
    "```            \n",
    "            "
   ]
  },
  {
   "cell_type": "markdown",
   "id": "4f61d16f",
   "metadata": {},
   "source": [
    "## Exercici 3\n",
    "\n",
    "\n",
    "Crea una llista amb nombres desordenats i respon a les següents preguntes:\n",
    "\n",
    "   - Quants números hi ha?\n",
    "   - Quantes vegades apareix el número 3\n",
    "   - Quantes vegades apareixen els nombres 3 i 4?\n",
    "   - Quin és el número més gran?\n",
    "   - Quins són els 3 números més petits?\n",
    "   - Quin és el rang d’aquesta llista?\n"
   ]
  },
  {
   "cell_type": "code",
   "execution_count": 8,
   "id": "785a9a7a",
   "metadata": {},
   "outputs": [],
   "source": [
    "#Functions\n",
    "\n",
    "def checkForNumber(numberList, number):\n",
    "    \n",
    "    count = 0\n",
    "    \n",
    "    for n in numberList: \n",
    "        \n",
    "        if number in str(n): #Changing the int to a string we can check if any of its digits is a hit\n",
    "            count += 1\n",
    "            \n",
    "    return count\n",
    "\n",
    "def minAndRemove(randList):\n",
    "    \n",
    "    listOfMins = []\n",
    "    \n",
    "    for i in range(3):\n",
    "        \n",
    "        lowest = min(randList) #Get the min and move it to a new list\n",
    "        listOfMins.append(lowest)\n",
    "        randList.remove(lowest)\n",
    "    \n",
    "    return listOfMins"
   ]
  },
  {
   "cell_type": "code",
   "execution_count": 9,
   "id": "00a6c5ec",
   "metadata": {
    "scrolled": true
   },
   "outputs": [
    {
     "name": "stdout",
     "output_type": "stream",
     "text": [
      "Hi ha 19 numeros\n",
      "El numero 3 apareix 2 vegades\n",
      "Els numeros 3 i 4 apareixen 8 vegades\n",
      "El nombre maxim es 87\n",
      "Els tres numeros mes baixos son [4, 7, 9]\n",
      "El rang de la matriu es de 83\n"
     ]
    }
   ],
   "source": [
    "size = np.random.randint(3,51) #random list length\n",
    "\n",
    "randList = np.random.randint(0,101,size) #list of random numbers with previously defined length\n",
    "\n",
    "print('Hi ha', size, 'numeros') #Already have len(list) stored in size\n",
    "\n",
    "count3 = checkForNumber(randList, '3') #Check for a specified number in a list\n",
    "print('El numero 3 apareix', count3, 'vegades')\n",
    "\n",
    "count4 = checkForNumber(randList, '4') \n",
    "print('Els numeros 3 i 4 apareixen', count3+count4, 'vegades')\n",
    "\n",
    "highest = max(randList)\n",
    "print('El nombre maxim es', highest)\n",
    "\n",
    "listOfMins = minAndRemove(list(randList)) #Don't know if it's optimal to get the minimum and remove from the list\n",
    "print ('Els tres numeros mes baixos son', listOfMins)\n",
    "\n",
    "rangeOfList = list(range(listOfMins[0], highest))\n",
    "\n",
    "print('El rang de la matriu es de', highest-listOfMins[0])"
   ]
  },
  {
   "cell_type": "markdown",
   "id": "7686cd9e",
   "metadata": {},
   "source": [
    "```python\n",
    "print(list(randList).count(3))\n",
    "```\n",
    "This would only count the number 3, but would not count the appearance of the number 3 in 43, 33, 63..."
   ]
  },
  {
   "cell_type": "markdown",
   "id": "633ea8a5",
   "metadata": {},
   "source": [
    "For the minimum function, after some experimenting, I got the following results:\n",
    "![](timedPlots.png)\n",
    "\n",
    "where 'defined' is the timing for the minAndRemove function, sorted is using sorted() method and retrieving the first 3 elements,\n",
    "and sort is using .sort() method and retrieving the first 3 elements. All of them grow more or less with the same tendency, but\n",
    "the defined function, for lists shorter than 100 elements performs worse, while for longer lists performs significantly better. You can review the code used to obtain the results shown above at:  \n",
    "https://github.com/keloks/Sprint3/blob/main/estructures_dades/timedPlots.py  \n",
    "From the coding point of view, it may be easier to sort a list and then retrieve the first 3 items. However if we were aiming for performance in lists larger than 100 elements, other methods should be explored. That taken into account, I believe the proposed minAndRemove function has room for massive improvement (getting rid of the append method, and maybe store each element in a separate variable could be the first step). "
   ]
  },
  {
   "cell_type": "markdown",
   "id": "0642c722",
   "metadata": {},
   "source": [
    "## Exercici 4\n",
    "\n",
    "Crea un diccionari de la següent forma i respon a les preguntes:\n",
    "\n",
    "compra = { \"Pomes\" : {\"Qty\": 5, \"€\": 0.42}, \"Peres\" : {\"Qty\": 3, \"€\": 0.66} }\n",
    "\n",
    "   - Afegeix alguna fruita més\n",
    "   - Quant han costat les peres en total?\n",
    "   - Quantes fruites hem comprat en total?\n",
    "   - Quina és la fruita més cara?\n"
   ]
  },
  {
   "cell_type": "code",
   "execution_count": 10,
   "id": "d9c8bff0",
   "metadata": {},
   "outputs": [],
   "source": [
    "#%% Functions\n",
    "def comparePrices(compra):\n",
    "    \n",
    "    expensivePrice = 0 #initialize \"empty\" auxiliar variables for the price and the fruit\n",
    "    expensiveFruit = ''\n",
    "    \n",
    "    for fruit,d in compra.items():         \n",
    "        \n",
    "        if d['€'] > expensivePrice: #if the price is higher, replace expensiveFruit with the new fruit\n",
    "            \n",
    "            expensiveFruit = fruit\n",
    "    \n",
    "    return expensiveFruit          "
   ]
  },
  {
   "cell_type": "code",
   "execution_count": 11,
   "id": "48a60200",
   "metadata": {},
   "outputs": [
    {
     "name": "stdout",
     "output_type": "stream",
     "text": [
      "Les peres han costat 1.98\n"
     ]
    }
   ],
   "source": [
    "compra = {'Pomes' : {'qty': 5 ,'€': 0.42}, 'Peres' : {'qty': 3,'€': 0.66}}\n",
    "\n",
    "#Afegir una fruita\n",
    "compra['Taronges'] = {'qty': 10,'€': 4.45}\n",
    "\n",
    "print('Les peres han costat', compra['Peres']['qty'] * compra['Peres']['€'])"
   ]
  },
  {
   "cell_type": "code",
   "execution_count": 12,
   "id": "dd20b6dc",
   "metadata": {},
   "outputs": [
    {
     "name": "stdout",
     "output_type": "stream",
     "text": [
      "S'han comprat 18 kilos de fruita\n"
     ]
    }
   ],
   "source": [
    "print ('S\\'han comprat', np.sum( [i['qty'] for i in compra.values()]), 'kilos de fruita')"
   ]
  },
  {
   "cell_type": "markdown",
   "id": "4f63b9c7",
   "metadata": {},
   "source": [
    "If we wanted the number of diferent fruits:\n",
    "```python\n",
    "print ('S\\'han comprat', len(compra), 'fruites diferents')\n",
    "```\n",
    "If we want the quantity of each fruit:\n",
    "```python\n",
    "for k,i in compra.items():\n",
    "    print('S\\'han comprat', i['qty'], 'kilos de', k)\n",
    "````\n",
    "we could maybe add the functionality to the comparePrices function, to iterate through the dictionary 1 time instead of 2."
   ]
  },
  {
   "cell_type": "code",
   "execution_count": 13,
   "id": "32dad2bf",
   "metadata": {},
   "outputs": [
    {
     "name": "stdout",
     "output_type": "stream",
     "text": [
      "La fruita mes cara son Taronges\n"
     ]
    }
   ],
   "source": [
    "print('La fruita mes cara son ' + comparePrices(compra))"
   ]
  },
  {
   "cell_type": "code",
   "execution_count": null,
   "id": "b4d8304b",
   "metadata": {},
   "outputs": [],
   "source": []
  }
 ],
 "metadata": {
  "anaconda-cloud": {},
  "kernelspec": {
   "display_name": "Python 3 (ipykernel)",
   "language": "python",
   "name": "python3"
  },
  "language_info": {
   "codemirror_mode": {
    "name": "ipython",
    "version": 3
   },
   "file_extension": ".py",
   "mimetype": "text/x-python",
   "name": "python",
   "nbconvert_exporter": "python",
   "pygments_lexer": "ipython3",
   "version": "3.7.11"
  }
 },
 "nbformat": 4,
 "nbformat_minor": 5
}
