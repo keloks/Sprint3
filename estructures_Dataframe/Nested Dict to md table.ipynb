{
 "cells": [
  {
   "cell_type": "code",
   "execution_count": 1,
   "id": "69c3ec65",
   "metadata": {},
   "outputs": [],
   "source": [
    "def nestedDicToMdTable(dic):\n",
    "\n",
    "    #Start of the table. The first column is void\n",
    "    md = '| | '\n",
    "\n",
    "    #writing the keys of outer dic as labels for the columns\n",
    "    for k in dic.keys():\n",
    "        md = md+ k +' | '\n",
    "\n",
    "    #formatting for the first column\n",
    "    md =md+ '\\n|----- | '\n",
    "\n",
    "    #adding spaces for the rest of the columns\n",
    "    for i in range(len(dic)):\n",
    "        md =md+ '-----| '\n",
    "\n",
    "    #newline\n",
    "\n",
    "\n",
    "    #store the inner dictionaries as a list of dictionaries\n",
    "    valuesList = list(dic.values())\n",
    "    #get a list of labels for the rows\n",
    "    labelsList = list(valuesList[0].keys())\n",
    "    firstLabel = labelsList[0]\n",
    "    secondLabel = labelsList[1]\n",
    "\n",
    "    #Store the content of the rows, including the labels, in a nested list\n",
    "    #if you have 3 different labels, create a list containing 3 lists, if you have 5, a list containing 5...\n",
    "    rows = [[firstLabel],[secondLabel]] \n",
    "\n",
    "    for dik in valuesList:\n",
    "        #Acces the value in each dictionary and append them in their row as strings\n",
    "        rows[0].append(str(dik[firstLabel]))\n",
    "        rows[1].append(str(dik[secondLabel]))\n",
    "\n",
    "    for r in rows:\n",
    "        md = md + '\\n|'\n",
    "        for i in r:\n",
    "            md = md + i + '|'\n",
    "\n",
    "    print(md)\n",
    "    return md"
   ]
  },
  {
   "cell_type": "code",
   "execution_count": 2,
   "id": "340da1c0",
   "metadata": {},
   "outputs": [
    {
     "name": "stdout",
     "output_type": "stream",
     "text": [
      "| | meme | emem | mmm | \n",
      "|----- | -----| -----| -----| \n",
      "|meme1|1|5|7|\n",
      "|meme2|2|6|10|\n"
     ]
    }
   ],
   "source": [
    "#sample dictionary\n",
    "dic = {'meme' : {'meme1' : 1, 'meme2': 2}, 'emem' : {'meme1' : 5, 'meme2' : 6}, 'mmm' : {'meme1' : 7, 'meme2' : 10}}\n",
    "\n",
    "md = nestedDicToMdTable(dic)"
   ]
  },
  {
   "cell_type": "markdown",
   "id": "99b46d8c",
   "metadata": {
    "variables": {
     "print(md)": "<table>\n<thead>\n<tr>\n<th></th>\n<th>meme</th>\n<th>emem</th>\n<th>mmm</th>\n</tr>\n</thead>\n<tbody><tr>\n<td>meme1</td>\n<td>1</td>\n<td>5</td>\n<td>7</td>\n</tr>\n<tr>\n<td>meme2</td>\n<td>2</td>\n<td>6</td>\n<td>10</td>\n</tr>\n</tbody></table>\n"
    }
   },
   "source": [
    "{{print(md)}}"
   ]
  }
 ],
 "metadata": {
  "anaconda-cloud": {},
  "kernelspec": {
   "display_name": "Python 3 (ipykernel)",
   "language": "python",
   "name": "python3"
  },
  "language_info": {
   "codemirror_mode": {
    "name": "ipython",
    "version": 3
   },
   "file_extension": ".py",
   "mimetype": "text/x-python",
   "name": "python",
   "nbconvert_exporter": "python",
   "pygments_lexer": "ipython3",
   "version": "3.7.11"
  }
 },
 "nbformat": 4,
 "nbformat_minor": 5
}
