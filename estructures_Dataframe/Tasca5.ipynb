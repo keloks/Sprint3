{
 "cells": [
  {
   "cell_type": "markdown",
   "id": "b23aee6a",
   "metadata": {},
   "source": [
    "## Exercici 1\n",
    "Descarrega el data set Airlines Delay: Airline on-time statistics and delay causes i carrega’l a un pandas Dataframe. Explora les dades que conté, i queda’t únicament amb les columnes que consideris rellevants."
   ]
  },
  {
   "cell_type": "code",
   "execution_count": 1,
   "id": "c07d2cb0",
   "metadata": {},
   "outputs": [],
   "source": [
    "import numpy as np\n",
    "import pandas as pd\n",
    "#%% Functions\n",
    "\n",
    "def dateGroup(df):\n",
    "     df.insert(0, 'Date', pd.to_datetime( df['Year']*10000 + \n",
    "                                          df['Month']*100 + \n",
    "                                          df['DayofMonth'],\n",
    "                                          format = '%Y%m%d'))"
   ]
  },
  {
   "cell_type": "code",
   "execution_count": 2,
   "id": "c46853e3",
   "metadata": {},
   "outputs": [],
   "source": [
    "df = pd.read_csv('DelayedFlights.csv')"
   ]
  },
  {
   "cell_type": "markdown",
   "id": "58e7d7db",
   "metadata": {},
   "source": [
    "First, brief overview of the first rows"
   ]
  },
  {
   "cell_type": "code",
   "execution_count": 3,
   "id": "7450a246",
   "metadata": {},
   "outputs": [
    {
     "name": "stdout",
     "output_type": "stream",
     "text": [
      "   Unnamed: 0  Year  Month  DayofMonth  DayOfWeek  DepTime  CRSDepTime  \\\n",
      "0           0  2008      1           3          4   2003.0        1955   \n",
      "1           1  2008      1           3          4    754.0         735   \n",
      "2           2  2008      1           3          4    628.0         620   \n",
      "3           4  2008      1           3          4   1829.0        1755   \n",
      "4           5  2008      1           3          4   1940.0        1915   \n",
      "\n",
      "   ArrTime  CRSArrTime UniqueCarrier  ...  TaxiIn TaxiOut  Cancelled  \\\n",
      "0   2211.0        2225            WN  ...     4.0     8.0          0   \n",
      "1   1002.0        1000            WN  ...     5.0    10.0          0   \n",
      "2    804.0         750            WN  ...     3.0    17.0          0   \n",
      "3   1959.0        1925            WN  ...     3.0    10.0          0   \n",
      "4   2121.0        2110            WN  ...     4.0    10.0          0   \n",
      "\n",
      "   CancellationCode  Diverted  CarrierDelay  WeatherDelay NASDelay  \\\n",
      "0                 N         0           NaN           NaN      NaN   \n",
      "1                 N         0           NaN           NaN      NaN   \n",
      "2                 N         0           NaN           NaN      NaN   \n",
      "3                 N         0           2.0           0.0      0.0   \n",
      "4                 N         0           NaN           NaN      NaN   \n",
      "\n",
      "  SecurityDelay  LateAircraftDelay  \n",
      "0           NaN                NaN  \n",
      "1           NaN                NaN  \n",
      "2           NaN                NaN  \n",
      "3           0.0               32.0  \n",
      "4           NaN                NaN  \n",
      "\n",
      "[5 rows x 30 columns]\n",
      "(1936758, 30)\n"
     ]
    }
   ],
   "source": [
    "print(df.head())\n",
    "print(df.shape)"
   ]
  },
  {
   "cell_type": "markdown",
   "id": "326495dd",
   "metadata": {},
   "source": [
    "Grouping the date allows us to delete some columns. Setting this as a function, ensures reusability, which seems will\n",
    "go a looooong way in the future. Notice the dataframe behaves as a global variable :S"
   ]
  },
  {
   "cell_type": "code",
   "execution_count": 4,
   "id": "190d5bac",
   "metadata": {},
   "outputs": [
    {
     "name": "stdout",
     "output_type": "stream",
     "text": [
      "Date                 2008-01-03 00:00:00\n",
      "Unnamed: 0                             0\n",
      "Year                                2008\n",
      "Month                                  1\n",
      "DayofMonth                             3\n",
      "DayOfWeek                              4\n",
      "DepTime                           2003.0\n",
      "CRSDepTime                          1955\n",
      "ArrTime                           2211.0\n",
      "CRSArrTime                          2225\n",
      "UniqueCarrier                         WN\n",
      "FlightNum                            335\n",
      "TailNum                           N712SW\n",
      "ActualElapsedTime                  128.0\n",
      "CRSElapsedTime                     150.0\n",
      "AirTime                            116.0\n",
      "ArrDelay                           -14.0\n",
      "DepDelay                             8.0\n",
      "Origin                               IAD\n",
      "Dest                                 TPA\n",
      "Distance                             810\n",
      "TaxiIn                               4.0\n",
      "TaxiOut                              8.0\n",
      "Cancelled                              0\n",
      "CancellationCode                       N\n",
      "Diverted                               0\n",
      "CarrierDelay                         NaN\n",
      "WeatherDelay                         NaN\n",
      "NASDelay                             NaN\n",
      "SecurityDelay                        NaN\n",
      "LateAircraftDelay                    NaN\n",
      "Name: 0, dtype: object\n"
     ]
    }
   ],
   "source": [
    "dateGroup(df)\n",
    "print(df.iloc[0]) #show first row"
   ]
  },
  {
   "cell_type": "markdown",
   "id": "4d8addc2",
   "metadata": {},
   "source": [
    "Deleting some columns that may not be of interest, by creating a list of labels."
   ]
  },
  {
   "cell_type": "code",
   "execution_count": 5,
   "id": "1773c8e1",
   "metadata": {},
   "outputs": [
    {
     "name": "stdout",
     "output_type": "stream",
     "text": [
      "        Date UniqueCarrier  AirTime  ArrDelay  Distance  Cancelled  Diverted  \\\n",
      "0 2008-01-03            WN    116.0     -14.0       810          0         0   \n",
      "1 2008-01-03            WN    113.0       2.0       810          0         0   \n",
      "2 2008-01-03            WN     76.0      14.0       515          0         0   \n",
      "3 2008-01-03            WN     77.0      34.0       515          0         0   \n",
      "4 2008-01-03            WN     87.0      11.0       688          0         0   \n",
      "\n",
      "   CarrierDelay  WeatherDelay  NASDelay  SecurityDelay  LateAircraftDelay  \n",
      "0           NaN           NaN       NaN            NaN                NaN  \n",
      "1           NaN           NaN       NaN            NaN                NaN  \n",
      "2           NaN           NaN       NaN            NaN                NaN  \n",
      "3           2.0           0.0       0.0            0.0               32.0  \n",
      "4           NaN           NaN       NaN            NaN                NaN  \n"
     ]
    }
   ],
   "source": [
    "valuesToDrop = ['Year', 'Month', 'DayofMonth', 'DayOfWeek',\n",
    "                    'DepTime', 'CRSDepTime', 'ArrTime', 'CRSArrTime',\n",
    "                    'FlightNum', 'ActualElapsedTime', 'CRSElapsedTime',\n",
    "                    'DepDelay','TaxiIn', 'TaxiOut', 'Unnamed: 0',\n",
    "                    'CancellationCode', 'TailNum', 'Dest', 'Origin']\n",
    "df.drop(valuesToDrop, inplace = True, axis = 1)\n",
    "print(df.head())"
   ]
  },
  {
   "cell_type": "markdown",
   "id": "62c476e9",
   "metadata": {},
   "source": [
    "## Exercici 2\n",
    "\n",
    "\n",
    "Fes un informe complet del data set:.\n",
    "\n",
    "   - Resumeix estadísticament les columnes d’interès\n",
    "   - Troba quantes dades faltants hi ha per columna\n",
    "   - Crea columnes noves (velocitat mitjana del vol, si ha arribat tard o no...)\n",
    "   - Taula de les aerolínies amb més endarreriments acumulats\n",
    "   - Quins són els vols més llargs? I els més endarrerits?\n",
    "   - Etc.\n"
   ]
  },
  {
   "cell_type": "markdown",
   "id": "7a6d5ccb",
   "metadata": {},
   "source": [
    "First, we count the missing data, stored as Nan values:"
   ]
  },
  {
   "cell_type": "code",
   "execution_count": 6,
   "id": "bbed5832",
   "metadata": {},
   "outputs": [
    {
     "name": "stdout",
     "output_type": "stream",
     "text": [
      "Date                      0\n",
      "UniqueCarrier             0\n",
      "AirTime                8387\n",
      "ArrDelay               8387\n",
      "Distance                  0\n",
      "Cancelled                 0\n",
      "Diverted                  0\n",
      "CarrierDelay         689270\n",
      "WeatherDelay         689270\n",
      "NASDelay             689270\n",
      "SecurityDelay        689270\n",
      "LateAircraftDelay    689270\n",
      "dtype: int64\n"
     ]
    }
   ],
   "source": [
    "print(df.isna().sum())"
   ]
  },
  {
   "cell_type": "markdown",
   "id": "9bd7a2ed",
   "metadata": {},
   "source": [
    "Let's assume some of this missing data comes from cancelled and diverted flights,  \n",
    "which may be of interest when performing some other analysis, but right now,  \n",
    "as we are learning, let's drop these kind of flights.\n",
    "Cancelled and diverted flights are noted with 0-1."
   ]
  },
  {
   "cell_type": "code",
   "execution_count": 7,
   "id": "44ab61d2",
   "metadata": {},
   "outputs": [
    {
     "name": "stdout",
     "output_type": "stream",
     "text": [
      "Date                      0\n",
      "UniqueCarrier             0\n",
      "AirTime                   0\n",
      "ArrDelay                  0\n",
      "Distance                  0\n",
      "Cancelled                 0\n",
      "Diverted                  0\n",
      "CarrierDelay         680883\n",
      "WeatherDelay         680883\n",
      "NASDelay             680883\n",
      "SecurityDelay        680883\n",
      "LateAircraftDelay    680883\n",
      "dtype: int64\n",
      "        Date UniqueCarrier  AirTime  ArrDelay  Distance  CarrierDelay  \\\n",
      "0 2008-01-03            WN    116.0     -14.0       810           NaN   \n",
      "1 2008-01-03            WN    113.0       2.0       810           NaN   \n",
      "2 2008-01-03            WN     76.0      14.0       515           NaN   \n",
      "3 2008-01-03            WN     77.0      34.0       515           2.0   \n",
      "4 2008-01-03            WN     87.0      11.0       688           NaN   \n",
      "\n",
      "   WeatherDelay  NASDelay  SecurityDelay  LateAircraftDelay  \n",
      "0           NaN       NaN            NaN                NaN  \n",
      "1           NaN       NaN            NaN                NaN  \n",
      "2           NaN       NaN            NaN                NaN  \n",
      "3           0.0       0.0            0.0               32.0  \n",
      "4           NaN       NaN            NaN                NaN  \n"
     ]
    }
   ],
   "source": [
    "nonCancelled = df['Cancelled'] == 0\n",
    "nonDiverted = df['Diverted'] == 0\n",
    "\n",
    "df = df[nonCancelled & nonDiverted]\n",
    "\n",
    "print(df.isna().sum())\n",
    "\n",
    "df.drop(['Cancelled', 'Diverted'], inplace = True, axis = 1)\n",
    "\n",
    "print(df.head())"
   ]
  },
  {
   "cell_type": "markdown",
   "id": "438d663e",
   "metadata": {},
   "source": [
    "Now that we have the flights we are interested in, it's reasonable to change the remaining missing data to 0."
   ]
  },
  {
   "cell_type": "code",
   "execution_count": 8,
   "id": "cbfea812",
   "metadata": {},
   "outputs": [
    {
     "name": "stdout",
     "output_type": "stream",
     "text": [
      "        Date UniqueCarrier  AirTime  ArrDelay  Distance  CarrierDelay  \\\n",
      "0 2008-01-03            WN    116.0     -14.0       810           0.0   \n",
      "1 2008-01-03            WN    113.0       2.0       810           0.0   \n",
      "2 2008-01-03            WN     76.0      14.0       515           0.0   \n",
      "3 2008-01-03            WN     77.0      34.0       515           2.0   \n",
      "4 2008-01-03            WN     87.0      11.0       688           0.0   \n",
      "\n",
      "   WeatherDelay  NASDelay  SecurityDelay  LateAircraftDelay  \n",
      "0           0.0       0.0            0.0                0.0  \n",
      "1           0.0       0.0            0.0                0.0  \n",
      "2           0.0       0.0            0.0                0.0  \n",
      "3           0.0       0.0            0.0               32.0  \n",
      "4           0.0       0.0            0.0                0.0  \n"
     ]
    }
   ],
   "source": [
    "#This is the cleanest way I could find\n",
    "df.fillna({'CarrierDelay':0, 'WeatherDelay':0, 'NASDelay':0, 'SecurityDelay':0, 'LateAircraftDelay':0}, inplace = True)\n",
    "print(df.head())"
   ]
  },
  {
   "cell_type": "markdown",
   "id": "6ddbe7ff",
   "metadata": {},
   "source": [
    "Finally, we have a dataset we can operate without all the unnecessary weigth, let's look at the type of data in each column"
   ]
  },
  {
   "cell_type": "code",
   "execution_count": 9,
   "id": "a0c98b78",
   "metadata": {},
   "outputs": [
    {
     "name": "stdout",
     "output_type": "stream",
     "text": [
      "<class 'pandas.core.frame.DataFrame'>\n",
      "Int64Index: 1928371 entries, 0 to 1936757\n",
      "Data columns (total 10 columns):\n",
      " #   Column             Dtype         \n",
      "---  ------             -----         \n",
      " 0   Date               datetime64[ns]\n",
      " 1   UniqueCarrier      object        \n",
      " 2   AirTime            float64       \n",
      " 3   ArrDelay           float64       \n",
      " 4   Distance           int64         \n",
      " 5   CarrierDelay       float64       \n",
      " 6   WeatherDelay       float64       \n",
      " 7   NASDelay           float64       \n",
      " 8   SecurityDelay      float64       \n",
      " 9   LateAircraftDelay  float64       \n",
      "dtypes: datetime64[ns](1), float64(7), int64(1), object(1)\n",
      "memory usage: 161.8+ MB\n",
      "None\n"
     ]
    }
   ],
   "source": [
    "print(df.info())"
   ]
  },
  {
   "cell_type": "markdown",
   "id": "a16dccdf",
   "metadata": {},
   "source": [
    "We notice the UniqueCarrier column with the datatype object that can be changed to string. This is useful if we want to compare them with other strings or simply use them in a plot as label."
   ]
  },
  {
   "cell_type": "code",
   "execution_count": 10,
   "id": "b4adb4b8",
   "metadata": {},
   "outputs": [
    {
     "name": "stdout",
     "output_type": "stream",
     "text": [
      "<class 'pandas.core.frame.DataFrame'>\n",
      "Int64Index: 1928371 entries, 0 to 1936757\n",
      "Data columns (total 10 columns):\n",
      " #   Column             Dtype         \n",
      "---  ------             -----         \n",
      " 0   Date               datetime64[ns]\n",
      " 1   UniqueCarrier      string        \n",
      " 2   AirTime            float64       \n",
      " 3   ArrDelay           float64       \n",
      " 4   Distance           int64         \n",
      " 5   CarrierDelay       float64       \n",
      " 6   WeatherDelay       float64       \n",
      " 7   NASDelay           float64       \n",
      " 8   SecurityDelay      float64       \n",
      " 9   LateAircraftDelay  float64       \n",
      "dtypes: datetime64[ns](1), float64(7), int64(1), string(1)\n",
      "memory usage: 161.8 MB\n",
      "None\n"
     ]
    }
   ],
   "source": [
    "df = df.astype({'UniqueCarrier' : 'string'})\n",
    "print(df.info())"
   ]
  },
  {
   "cell_type": "markdown",
   "id": "bc1285a2",
   "metadata": {},
   "source": [
    "Now that we have the trimmed dataset, let's add some columns, such as flight speed. Since speed will be defined as distance/airtime, we'll have to drop any values that are 0 for either column. First we need to explore the possibility and assess if the volume of data to be discarded is significant to the sample."
   ]
  },
  {
   "cell_type": "code",
   "execution_count": 11,
   "id": "7473357c",
   "metadata": {},
   "outputs": [
    {
     "name": "stdout",
     "output_type": "stream",
     "text": [
      "0\n",
      "7\n"
     ]
    }
   ],
   "source": [
    "zeroDistance = df['Distance'] == 0\n",
    "print(zeroDistance.sum())\n",
    "\n",
    "zeroTime = df['AirTime'] == 0\n",
    "print(zeroTime.sum())"
   ]
  },
  {
   "cell_type": "markdown",
   "id": "e6d33eea",
   "metadata": {},
   "source": [
    "There are 0 zeroDistance flights, as expected. However, we have 7 zeroTime. This means we have flights that weren't cancelled nor diverted, yet were accounted with 0 AirTime. This could be an error when collecting the data, or an error during processing. More precisely, the fact of dropping columns before analizing the na values can lead to this kind of situations. Fortunately for us, we can get rid of this 7 values since we have a data sample of almost 2 million flights. Only then can we proceed to create the speed column."
   ]
  },
  {
   "cell_type": "code",
   "execution_count": 12,
   "id": "2d03dd76",
   "metadata": {},
   "outputs": [
    {
     "name": "stdout",
     "output_type": "stream",
     "text": [
      "0\n",
      "        Date UniqueCarrier  AirTime     Speed  ArrDelay  Distance  \\\n",
      "0 2008-01-03            WN    116.0  6.982759     -14.0       810   \n",
      "1 2008-01-03            WN    113.0  7.168142       2.0       810   \n",
      "2 2008-01-03            WN     76.0  6.776316      14.0       515   \n",
      "3 2008-01-03            WN     77.0  6.688312      34.0       515   \n",
      "4 2008-01-03            WN     87.0  7.908046      11.0       688   \n",
      "\n",
      "   CarrierDelay  WeatherDelay  NASDelay  SecurityDelay  LateAircraftDelay  \n",
      "0           0.0           0.0       0.0            0.0                0.0  \n",
      "1           0.0           0.0       0.0            0.0                0.0  \n",
      "2           0.0           0.0       0.0            0.0                0.0  \n",
      "3           2.0           0.0       0.0            0.0               32.0  \n",
      "4           0.0           0.0       0.0            0.0                0.0  \n"
     ]
    }
   ],
   "source": [
    "nonZeroTime = df['AirTime'] != 0\n",
    "df = df[nonZeroTime]\n",
    "zeroTime = df['AirTime'] == 0\n",
    "print(zeroTime.sum())\n",
    "\n",
    "df.insert(3, 'Speed', df['Distance']/df['AirTime'])\n",
    "print(df.head())"
   ]
  },
  {
   "cell_type": "markdown",
   "id": "1d85c3aa",
   "metadata": {},
   "source": [
    "Finally, the last edit would be to change the negative and below 15 minutes ArrDelay to 0 (the dataset considers delays of less than 15 minutes, no delay at all), and drop ArrDelay"
   ]
  },
  {
   "cell_type": "code",
   "execution_count": 13,
   "id": "b2be911f",
   "metadata": {
    "scrolled": true
   },
   "outputs": [
    {
     "name": "stdout",
     "output_type": "stream",
     "text": [
      "        Date UniqueCarrier  AirTime     Speed  DelayedMinutes  Distance  \\\n",
      "0 2008-01-03            WN    116.0  6.982759             0.0       810   \n",
      "1 2008-01-03            WN    113.0  7.168142             0.0       810   \n",
      "2 2008-01-03            WN     76.0  6.776316             0.0       515   \n",
      "3 2008-01-03            WN     77.0  6.688312            34.0       515   \n",
      "4 2008-01-03            WN     87.0  7.908046             0.0       688   \n",
      "\n",
      "   CarrierDelay  WeatherDelay  NASDelay  SecurityDelay  LateAircraftDelay  \n",
      "0           0.0           0.0       0.0            0.0                0.0  \n",
      "1           0.0           0.0       0.0            0.0                0.0  \n",
      "2           0.0           0.0       0.0            0.0                0.0  \n",
      "3           2.0           0.0       0.0            0.0               32.0  \n",
      "4           0.0           0.0       0.0            0.0                0.0  \n"
     ]
    }
   ],
   "source": [
    "df.insert(4,'DelayedMinutes', np.abs((df['ArrDelay'] > 15) * df['ArrDelay']))\n",
    "df.drop('ArrDelay', inplace = True, axis = 1)\n",
    "print(df.head())"
   ]
  },
  {
   "cell_type": "markdown",
   "id": "8a0fa59a",
   "metadata": {},
   "source": [
    "Finally, we have the ideal dataframe, no useless columns, no missing data and data types we can operate on. Let's do this:\n",
    "### Statistical summary of all flights"
   ]
  },
  {
   "cell_type": "code",
   "execution_count": 14,
   "id": "44319dd3",
   "metadata": {
    "scrolled": true
   },
   "outputs": [
    {
     "name": "stdout",
     "output_type": "stream",
     "text": [
      "            AirTime         Speed  DelayedMinutes      Distance  CarrierDelay  \\\n",
      "count  1.928364e+06  1.928364e+06    1.928364e+06  1.928364e+06  1.928364e+06   \n",
      "mean   1.082775e+02  6.615878e+00    4.069115e+01  7.649496e+02  1.240744e+01   \n",
      "std    6.864242e+01  1.625243e+00    5.761602e+01  5.738861e+02  3.620428e+01   \n",
      "min    1.000000e+00  3.548387e-01    0.000000e+00  1.100000e+01  0.000000e+00   \n",
      "25%    5.800000e+01  5.864407e+00    0.000000e+00  3.380000e+02  0.000000e+00   \n",
      "50%    9.000000e+01  6.730337e+00    2.400000e+01  6.060000e+02  0.000000e+00   \n",
      "75%    1.370000e+02  7.469136e+00    5.600000e+01  9.970000e+02  1.000000e+01   \n",
      "max    1.091000e+03  9.320000e+02    2.461000e+03  4.962000e+03  2.436000e+03   \n",
      "\n",
      "       WeatherDelay      NASDelay  SecurityDelay  LateAircraftDelay  \n",
      "count  1.928364e+06  1.928364e+06   1.928364e+06       1.928364e+06  \n",
      "mean   2.395842e+00  9.717567e+00   5.831109e-02       1.636461e+01  \n",
      "std    1.737719e+01  2.814303e+01   1.627460e+00       3.592077e+01  \n",
      "min    0.000000e+00  0.000000e+00   0.000000e+00       0.000000e+00  \n",
      "25%    0.000000e+00  0.000000e+00   0.000000e+00       0.000000e+00  \n",
      "50%    0.000000e+00  0.000000e+00   0.000000e+00       0.000000e+00  \n",
      "75%    0.000000e+00  6.000000e+00   0.000000e+00       1.800000e+01  \n",
      "max    1.352000e+03  1.357000e+03   3.920000e+02       1.316000e+03  \n"
     ]
    }
   ],
   "source": [
    "print(df.describe())"
   ]
  },
  {
   "cell_type": "markdown",
   "id": "e5e7a35a",
   "metadata": {},
   "source": [
    "Is any of the quantitative data correlated?"
   ]
  },
  {
   "cell_type": "code",
   "execution_count": 15,
   "id": "5aceb71e",
   "metadata": {},
   "outputs": [
    {
     "name": "stdout",
     "output_type": "stream",
     "text": [
      "                    AirTime     Speed  DelayedMinutes  Distance  CarrierDelay  \\\n",
      "AirTime            1.000000  0.435626        0.010095  0.980297      0.010826   \n",
      "Speed              0.435626  1.000000       -0.081298  0.523510     -0.010737   \n",
      "DelayedMinutes     0.010095 -0.081298        1.000000 -0.018701      0.545347   \n",
      "Distance           0.980297  0.523510       -0.018701  1.000000      0.007620   \n",
      "CarrierDelay       0.010826 -0.010737        0.545347  0.007620      1.000000   \n",
      "WeatherDelay      -0.016280 -0.034639        0.277239 -0.024186     -0.040568   \n",
      "NASDelay           0.044198 -0.107392        0.452917 -0.000333     -0.047226   \n",
      "SecurityDelay      0.005266 -0.000887        0.011670  0.004050     -0.011225   \n",
      "LateAircraftDelay -0.022233 -0.018680        0.559861 -0.026354     -0.077199   \n",
      "\n",
      "                   WeatherDelay  NASDelay  SecurityDelay  LateAircraftDelay  \n",
      "AirTime               -0.016280  0.044198       0.005266          -0.022233  \n",
      "Speed                 -0.034639 -0.107392      -0.000887          -0.018680  \n",
      "DelayedMinutes         0.277239  0.452917       0.011670           0.559861  \n",
      "Distance              -0.024186 -0.000333       0.004050          -0.026354  \n",
      "CarrierDelay          -0.040568 -0.047226      -0.011225          -0.077199  \n",
      "WeatherDelay           1.000000  0.023531      -0.004773          -0.017210  \n",
      "NASDelay               0.023531  1.000000      -0.004579          -0.022402  \n",
      "SecurityDelay         -0.004773 -0.004579       1.000000          -0.009190  \n",
      "LateAircraftDelay     -0.017210 -0.022402      -0.009190           1.000000  \n"
     ]
    }
   ],
   "source": [
    "corrMat = df.corr()\n",
    "print(corrMat)"
   ]
  },
  {
   "cell_type": "markdown",
   "id": "10b5f0dc",
   "metadata": {},
   "source": [
    "### Statistical summary of delayed flights"
   ]
  },
  {
   "cell_type": "code",
   "execution_count": 16,
   "id": "926e3864",
   "metadata": {},
   "outputs": [
    {
     "name": "stdout",
     "output_type": "stream",
     "text": [
      "            AirTime         Speed  DelayedMinutes      Distance  CarrierDelay  \\\n",
      "count  1.215007e+06  1.215007e+06    1.215007e+06  1.215007e+06  1.215007e+06   \n",
      "mean   1.075341e+02  6.465748e+00    6.458181e+01  7.419556e+02  1.952062e+01   \n",
      "std    6.820599e+01  1.516042e+00    6.103865e+01  5.593313e+02  4.406180e+01   \n",
      "min    1.000000e+00  3.548387e-01    1.600000e+01  1.100000e+01  0.000000e+00   \n",
      "25%    5.800000e+01  5.705882e+00    2.700000e+01  3.340000e+02  0.000000e+00   \n",
      "50%    9.000000e+01  6.584906e+00    4.400000e+01  5.950000e+02  2.000000e+00   \n",
      "75%    1.360000e+02  7.335106e+00    8.000000e+01  9.720000e+02  2.200000e+01   \n",
      "max    1.091000e+03  7.100000e+02    2.461000e+03  4.962000e+03  2.436000e+03   \n",
      "\n",
      "       WeatherDelay      NASDelay  SecurityDelay  LateAircraftDelay  \n",
      "count  1.215007e+06  1.215007e+06   1.215007e+06       1.215007e+06  \n",
      "mean   3.791184e+00  1.535759e+01   8.982417e-02       2.582260e+01  \n",
      "std    2.176812e+01  3.421257e+01   2.041624e+00       4.247588e+01  \n",
      "min    0.000000e+00  0.000000e+00   0.000000e+00       0.000000e+00  \n",
      "25%    0.000000e+00  0.000000e+00   0.000000e+00       0.000000e+00  \n",
      "50%    0.000000e+00  2.000000e+00   0.000000e+00       9.000000e+00  \n",
      "75%    0.000000e+00  1.500000e+01   0.000000e+00       3.400000e+01  \n",
      "max    1.352000e+03  1.357000e+03   3.920000e+02       1.316000e+03  \n"
     ]
    }
   ],
   "source": [
    "delayedDf = df[df['DelayedMinutes']>0]\n",
    "print(delayedDf.describe())"
   ]
  },
  {
   "cell_type": "markdown",
   "id": "76922e48",
   "metadata": {},
   "source": [
    "What about correlation in this subset?"
   ]
  },
  {
   "cell_type": "code",
   "execution_count": 17,
   "id": "e3318d3e",
   "metadata": {},
   "outputs": [
    {
     "name": "stdout",
     "output_type": "stream",
     "text": [
      "                    AirTime     Speed  DelayedMinutes  Distance  CarrierDelay  \\\n",
      "AirTime            1.000000  0.451314        0.026752  0.978121      0.019192   \n",
      "Speed              0.451314  1.000000       -0.025792  0.554858      0.028708   \n",
      "DelayedMinutes     0.026752 -0.025792        1.000000  0.014750      0.500497   \n",
      "Distance           0.978121  0.554858        0.014750  1.000000      0.028515   \n",
      "CarrierDelay       0.019192  0.028708        0.500497  0.028515      1.000000   \n",
      "WeatherDelay      -0.018798 -0.029758        0.263738 -0.024213     -0.070204   \n",
      "NASDelay           0.062818 -0.105709        0.383730  0.017931     -0.122744   \n",
      "SecurityDelay      0.007337  0.003246       -0.002395  0.007212     -0.018396   \n",
      "LateAircraftDelay -0.022782  0.033395        0.473711 -0.010764     -0.182386   \n",
      "\n",
      "                   WeatherDelay  NASDelay  SecurityDelay  LateAircraftDelay  \n",
      "AirTime               -0.018798  0.062818       0.007337          -0.022782  \n",
      "Speed                 -0.029758 -0.105709       0.003246           0.033395  \n",
      "DelayedMinutes         0.263738  0.383730      -0.002395           0.473711  \n",
      "Distance              -0.024213  0.017931       0.007212          -0.010764  \n",
      "CarrierDelay          -0.070204 -0.122744      -0.018396          -0.182386  \n",
      "WeatherDelay           1.000000 -0.004060      -0.007494          -0.057030  \n",
      "NASDelay              -0.004060  1.000000      -0.011716          -0.124061  \n",
      "SecurityDelay         -0.007494 -0.011716       1.000000          -0.019146  \n",
      "LateAircraftDelay     -0.057030 -0.124061      -0.019146           1.000000  \n"
     ]
    }
   ],
   "source": [
    "print(delayedDf.corr())"
   ]
  },
  {
   "cell_type": "markdown",
   "id": "7c98a44e",
   "metadata": {},
   "source": [
    "Given that both datasets yield similar results, a single analysis will be made.\n",
    "With the matrix of correlation, we can see that the variable that has more impact in delays is CarrierDelay with a 0,5 coeficient, followed by LateAirCraftDelay with 0.47. This means that for every minute added to the delay, it is probable that there were minutes added to CarrierDelay or LateAirCraftDelay. Even though, 0,5 is a somewhat weak correlation coeficient, so it is safe to say that the delays are caused by a composition of the variables.  \n",
    "  \n",
    "Now, to answer some questions:"
   ]
  },
  {
   "cell_type": "code",
   "execution_count": 18,
   "id": "af899ca2",
   "metadata": {
    "code_folding": [
     2
    ]
   },
   "outputs": [],
   "source": [
    "#Nested dict to md table. Never more use nested dicts if labels of inner dict are the same. Do it from a dataframe.\n",
    "def nestedDicToMdTable(dic):\n",
    "    \n",
    "    #Start of the table. The first column is void\n",
    "    md = '| | '\n",
    "\n",
    "    #writing the keys of outer dic as labels for the columns\n",
    "    for k in dic.keys():\n",
    "        md = md+ k +' | '\n",
    "\n",
    "    #formatting for the first column\n",
    "    md =md+ '\\n|----- | '\n",
    "\n",
    "    #adding spaces for the rest of the columns\n",
    "    for i in range(len(dic)):\n",
    "        md =md+ '-----| '\n",
    "\n",
    "    #store the inner dictionaries as a list of dictionaries\n",
    "    valuesList = list(dic.values())\n",
    "    #get a list of labels for the rows\n",
    "    labelsList = list(valuesList[0].keys())\n",
    "    firstLabel = labelsList[0]\n",
    "    secondLabel = labelsList[1]\n",
    "    thirdLabel = labelsList[2]\n",
    "    fourthLabel = labelsList[3]\n",
    "    fifthLabel = labelsList[4]\n",
    "\n",
    "    #Store the content of the rows, including the labels, in a nested list\n",
    "    #if you have 3 different labels, create a list containing 3 lists, if you have 5, a list containing 5...\n",
    "    rows = [[firstLabel], [secondLabel], [thirdLabel], [fourthLabel], [fifthLabel]] \n",
    "\n",
    "    for dik in valuesList:\n",
    "        #Acces the value in each dictionary and append them in their row as strings\n",
    "        rows[0].append(str(dik[firstLabel]))\n",
    "        rows[1].append(str('%.2f' % dik[secondLabel]))\n",
    "        rows[2].append(str('%.2f' % dik[thirdLabel]))\n",
    "        rows[3].append(str('%.2f' % dik[fourthLabel]))\n",
    "        rows[4].append(str('%.2f' % dik[fifthLabel]))\n",
    "    \n",
    "    #Finally, write the string\n",
    "    for r in rows:\n",
    "        md = md + '\\n|'\n",
    "        for i in r:\n",
    "            md = md + i + '|'\n",
    "        \n",
    "    return md"
   ]
  },
  {
   "cell_type": "code",
   "execution_count": 19,
   "id": "d1534b47",
   "metadata": {},
   "outputs": [
    {
     "name": "stdout",
     "output_type": "stream",
     "text": [
      "Number of delayed flights: 1215007 precentage of 63.01 %\n",
      "Number of delayed flights over 30 minutes: 830476 percentage of 43.07 %\n",
      "Number of delayed flights over 60 minutes: 439171 percentage of 22.77 %\n"
     ]
    }
   ],
   "source": [
    "totalFlights = df.shape[0]\n",
    "totalDelayed = delayedDf.shape[0]\n",
    "delayed30 = delayedDf[delayedDf['DelayedMinutes'] > 30].shape[0]\n",
    "delayed60 = delayedDf[delayedDf['DelayedMinutes'] > 60].shape[0]\n",
    "\n",
    "print('Number of delayed flights:', totalDelayed, 'precentage of',  '%.2f' % (totalDelayed*100/totalFlights), '%')\n",
    "print('Number of delayed flights over 30 minutes:',  delayed30, 'percentage of',  '%.2f' % (delayed30*100/totalFlights), '%')\n",
    "print('Number of delayed flights over 60 minutes:',  delayed60, 'percentage of',  '%.2f' % (delayed60*100/totalFlights), '%')\n",
    "\n",
    "byCarriers = {}\n",
    "\n",
    "for i in df['UniqueCarrier'].unique():\n",
    "    \n",
    "    tempTotal = df[df['UniqueCarrier'] == i]\n",
    "    tempDelayed = delayedDf[delayedDf['UniqueCarrier'] == i]\n",
    "    \n",
    "    totalFlights = tempTotal.shape[0]\n",
    "    \n",
    "    byCarriers[i]={'total flights' : totalFlights,\n",
    "                   'meanDelay (min)' :  (np.mean(tempTotal['DelayedMinutes'])),\n",
    "                   'delayed flights (%)' :  (tempDelayed.shape[0]*100/totalFlights),\n",
    "                   'delayed > 30min (%)' : (tempDelayed[tempDelayed['DelayedMinutes'] > 30].shape[0]*100/totalFlights),\n",
    "                   'delayed > 60min (%)' : (tempDelayed[tempDelayed['DelayedMinutes'] > 60].shape[0]*100/totalFlights)                   \n",
    "                }\n",
    "\n",
    "md = nestedDicToMdTable(byCarriers)"
   ]
  },
  {
   "cell_type": "markdown",
   "id": "4f5cdef9",
   "metadata": {
    "variables": {
     "print(md)": "<table>\n<thead>\n<tr>\n<th></th>\n<th>WN</th>\n<th>XE</th>\n<th>YV</th>\n<th>OH</th>\n<th>OO</th>\n<th>UA</th>\n<th>US</th>\n<th>DL</th>\n<th>EV</th>\n<th>F9</th>\n<th>FL</th>\n<th>HA</th>\n<th>MQ</th>\n<th>NW</th>\n<th>9E</th>\n<th>AA</th>\n<th>AQ</th>\n<th>AS</th>\n<th>B6</th>\n<th>CO</th>\n</tr>\n</thead>\n<tbody><tr>\n<td>total flights</td>\n<td>376201</td>\n<td>103146</td>\n<td>66769</td>\n<td>52453</td>\n<td>131774</td>\n<td>140904</td>\n<td>98007</td>\n<td>113728</td>\n<td>81762</td>\n<td>28224</td>\n<td>70969</td>\n<td>7472</td>\n<td>141223</td>\n<td>78843</td>\n<td>51569</td>\n<td>190910</td>\n<td>744</td>\n<td>39010</td>\n<td>54925</td>\n<td>99731</td>\n</tr>\n<tr>\n<td>meanDelay (min)</td>\n<td>28.20</td>\n<td>48.78</td>\n<td>53.68</td>\n<td>49.63</td>\n<td>43.47</td>\n<td>46.86</td>\n<td>35.46</td>\n<td>38.39</td>\n<td>45.94</td>\n<td>25.20</td>\n<td>41.84</td>\n<td>30.82</td>\n<td>43.55</td>\n<td>42.31</td>\n<td>45.47</td>\n<td>45.33</td>\n<td>19.19</td>\n<td>34.62</td>\n<td>54.53</td>\n<td>39.66</td>\n</tr>\n<tr>\n<td>delayed flights (%)</td>\n<td>52.21</td>\n<td>68.31</td>\n<td>74.19</td>\n<td>73.14</td>\n<td>65.73</td>\n<td>66.25</td>\n<td>59.11</td>\n<td>61.78</td>\n<td>67.86</td>\n<td>54.10</td>\n<td>64.45</td>\n<td>55.19</td>\n<td>67.36</td>\n<td>67.72</td>\n<td>67.55</td>\n<td>67.78</td>\n<td>43.15</td>\n<td>59.83</td>\n<td>68.34</td>\n<td>57.65</td>\n</tr>\n<tr>\n<td>delayed &gt; 30min (%)</td>\n<td>32.04</td>\n<td>49.14</td>\n<td>53.45</td>\n<td>52.46</td>\n<td>45.89</td>\n<td>48.43</td>\n<td>39.12</td>\n<td>40.30</td>\n<td>47.46</td>\n<td>28.61</td>\n<td>43.22</td>\n<td>29.12</td>\n<td>47.15</td>\n<td>44.97</td>\n<td>47.72</td>\n<td>48.37</td>\n<td>21.91</td>\n<td>38.39</td>\n<td>52.38</td>\n<td>40.65</td>\n</tr>\n<tr>\n<td>delayed &gt; 60min (%)</td>\n<td>14.47</td>\n<td>28.26</td>\n<td>31.49</td>\n<td>28.85</td>\n<td>26.02</td>\n<td>27.89</td>\n<td>19.24</td>\n<td>20.43</td>\n<td>26.07</td>\n<td>11.27</td>\n<td>23.28</td>\n<td>11.83</td>\n<td>24.56</td>\n<td>21.29</td>\n<td>26.17</td>\n<td>26.17</td>\n<td>7.53</td>\n<td>17.71</td>\n<td>31.80</td>\n<td>22.55</td>\n</tr>\n</tbody></table>\n"
    }
   },
   "source": [
    "{{print(md)}}"
   ]
  },
  {
   "cell_type": "markdown",
   "id": "fe5badf8",
   "metadata": {},
   "source": [
    "The maximum delays are:"
   ]
  },
  {
   "cell_type": "code",
   "execution_count": 20,
   "id": "a3ace1f2",
   "metadata": {},
   "outputs": [
    {
     "name": "stdout",
     "output_type": "stream",
     "text": [
      "Company with most flights: WN with 376201 flights\n",
      "Company with highest mean delay: B6 with 54.53 minutes\n",
      "Company with highest % delayed flights: YV with 74.19 % of its flights\n",
      "Company with highest % delayed over 30 min flights: YV with 53.45 % of its flights\n",
      "Company with highest % delayed over 60 min flights: B6 with 31.80 % of its flights\n"
     ]
    }
   ],
   "source": [
    "companies = list(byCarriers.keys())\n",
    "totalFlights = []\n",
    "meanDelay = []\n",
    "delayed = []\n",
    "delayed30 = []\n",
    "delayed60 = []\n",
    "\n",
    "#Because I used nested dicts, now I have to put everything into lists.\n",
    "for company in companies:\n",
    "    totalFlights.append(byCarriers[company]['total flights'])\n",
    "    meanDelay.append(byCarriers[company]['meanDelay (min)'])\n",
    "    delayed.append(byCarriers[company]['delayed flights (%)'])\n",
    "    delayed30.append(byCarriers[company]['delayed > 30min (%)'])\n",
    "    delayed60.append(byCarriers[company]['delayed > 60min (%)'])\n",
    "\n",
    "#get the maximum and its index. With that index, get the company in the companies list.\n",
    "print('Company with most flights:', companies[totalFlights.index(max(totalFlights))], 'with', max(totalFlights),'flights')\n",
    "print('Company with highest mean delay:', companies[meanDelay.index(max(meanDelay))], 'with', '%.2f' % max(meanDelay),'minutes')\n",
    "print('Company with highest % delayed flights:', companies[delayed.index(max(delayed))], 'with', '%.2f' % max(delayed),'% of its flights')\n",
    "print('Company with highest % delayed over 30 min flights:', companies[delayed30.index(max(delayed30))], 'with', '%.2f' % max(delayed30),'% of its flights')\n",
    "print('Company with highest % delayed over 60 min flights:', companies[delayed60.index(max(delayed60))], 'with', '%.2f' % max(delayed60),'% of its flights')"
   ]
  },
  {
   "cell_type": "markdown",
   "id": "ac33d0e7",
   "metadata": {},
   "source": [
    "## Exercici 3\n",
    "Exporta el data set net i amb les noves columnes a Excel."
   ]
  },
  {
   "cell_type": "markdown",
   "id": "d4799e8b",
   "metadata": {},
   "source": [
    "A typical excel export:\n",
    "```python\n",
    "df.to_excel('ExportedDataframe')\n",
    "```\n",
    "throws the following error:\n",
    "```python\n",
    "This sheet is too large! Your sheet size is: 1928364, 11 Max sheet size is: 1048576, 16384\n",
    "```\n",
    "so I'll export as csv"
   ]
  },
  {
   "cell_type": "code",
   "execution_count": 21,
   "id": "bc6184a2",
   "metadata": {},
   "outputs": [],
   "source": [
    "df.to_csv('exportedDataframe.csv')"
   ]
  }
 ],
 "metadata": {
  "anaconda-cloud": {},
  "kernelspec": {
   "display_name": "Python 3 (ipykernel)",
   "language": "python",
   "name": "python3"
  },
  "language_info": {
   "codemirror_mode": {
    "name": "ipython",
    "version": 3
   },
   "file_extension": ".py",
   "mimetype": "text/x-python",
   "name": "python",
   "nbconvert_exporter": "python",
   "pygments_lexer": "ipython3",
   "version": "3.7.11"
  }
 },
 "nbformat": 4,
 "nbformat_minor": 5
}
