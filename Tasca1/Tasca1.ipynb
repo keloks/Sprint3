{
 "cells": [
  {
   "cell_type": "code",
   "execution_count": 3,
   "id": "95c087a1",
   "metadata": {},
   "outputs": [],
   "source": [
    "import numpy as np\n",
    "\n",
    "#Functions\n",
    "\n",
    "def checkForNumber(numberList, number):\n",
    "    \n",
    "    count = 0\n",
    "    \n",
    "    for n in numberList: \n",
    "        \n",
    "        if number in str(n): #Changing the int to a string we can check if any of its digits is a hit\n",
    "            count += 1\n",
    "            \n",
    "    return count\n",
    "\n",
    "def minAndRemove(randList):\n",
    "    \n",
    "    listOfMins = []\n",
    "    \n",
    "    for i in range(3):\n",
    "        \n",
    "        lowest = min(randList) #Get the min and move it to a new list\n",
    "        listOfMins.append(lowest)\n",
    "        randList.remove(lowest)\n",
    "    \n",
    "    return listOfMins\n",
    "\n",
    "def comparePrices(compra):\n",
    "    \n",
    "    expensivePrice = 0 #initialize \"empty\" auxiliar variables for the price and the fruit\n",
    "    expensiveFruit = ''\n",
    "    \n",
    "    for fruit,d in compra.items():         \n",
    "        \n",
    "        if d['€'] > expensivePrice: #if the price is higher, replace expensiveFruit with the new fruit\n",
    "            \n",
    "            expensiveFruit = fruit\n",
    "    \n",
    "    return expensiveFruit\n",
    "    "
   ]
  },
  {
   "cell_type": "code",
   "execution_count": 1,
   "id": "7d7498ec",
   "metadata": {},
   "outputs": [
    {
     "name": "stdout",
     "output_type": "stream",
     "text": [
      "[['Gener', 'Febrer', 'Marc'], ['Abril', 'Maig', 'Juny'], ['Juliol', 'Agost', 'Setembre'], ['Octubre', 'Novembre', 'Desembre']]\n",
      "['Gener', 'Febrer', 'Marc']\n",
      "['Abril', 'Maig', 'Juny']\n",
      "['Juliol', 'Agost', 'Setembre']\n",
      "['Octubre', 'Novembre', 'Desembre']\n"
     ]
    }
   ],
   "source": [
    "#Ex1\n",
    "monthList = [['Gener', 'Febrer', 'Marc'],['Abril','Maig','Juny'],\n",
    "             ['Juliol','Agost', 'Setembre'],['Octubre', 'Novembre', 'Desembre']]\n",
    "\n",
    "print(monthList) #Print the list as is\n",
    "for i in monthList: #Print the lists within the lists\n",
    "    print(i)"
   ]
  },
  {
   "cell_type": "code",
   "execution_count": 4,
   "id": "32dad2bf",
   "metadata": {},
   "outputs": [
    {
     "name": "stdout",
     "output_type": "stream",
     "text": [
      "Febrer\n",
      "['Gener', 'Febrer', 'Marc']\n",
      "Setembre\n",
      "Octubre\n"
     ]
    }
   ],
   "source": [
    "#Ex2\n",
    "\n",
    "req1 = monthList[0][1] #get second item in first list\n",
    "print(req1)\n",
    "\n",
    "req2 = monthList[0][:] #get the whole first list\n",
    "print(req2)\n",
    "\n",
    "for t in monthList: #Iterate through the whole list of lists and check for month names\n",
    "    \n",
    "    for m in t:\n",
    "        \n",
    "        if m == 'Setembre' or m == 'Octubre': #If there is such month, print it\n",
    "            \n",
    "            print(m)\n",
    "            "
   ]
  },
  {
   "cell_type": "code",
   "execution_count": 5,
   "id": "20b18e72",
   "metadata": {},
   "outputs": [
    {
     "name": "stdout",
     "output_type": "stream",
     "text": [
      "Hi ha 22 numeros\n",
      "El numero 3 apareix 6 vegades\n",
      "Els numeros 3 i 4 apareixen 9 vegades\n",
      "El nombre maxim es 95\n",
      "Els tres numeros mes baixos son [2, 3, 5]\n",
      "El rang de la matriu es de 93\n"
     ]
    }
   ],
   "source": [
    "# %%Exercici3\n",
    "\n",
    "size = np.random.randint(3,51) #random list length\n",
    "\n",
    "randList = np.random.randint(0,101,size) #list of random numbers with previously defined length\n",
    "\n",
    "print('Hi ha', size, 'numeros') #Already have len(list) stored in size\n",
    "\n",
    "count3 = checkForNumber(randList, '3') #Check for a specified number in a list\n",
    "print('El numero 3 apareix', count3, 'vegades')\n",
    "\n",
    "count4 = checkForNumber(randList, '4') \n",
    "print('Els numeros 3 i 4 apareixen', count3+count4, 'vegades')\n",
    "\n",
    "highest = max(randList)\n",
    "print('El nombre maxim es', highest)\n",
    "\n",
    "listOfMins = minAndRemove(list(randList)) #Don't know if it's optimal to get the minimum and remove from the list\n",
    "print ('Els tres numeros mes baixos son', listOfMins)\n",
    "\n",
    "rangeOfList = list(range(listOfMins[0], highest)) #Is this the range of a list?\n",
    "\n",
    "print('El rang de la matriu es de', len(rangeOfList))"
   ]
  },
  {
   "cell_type": "code",
   "execution_count": 6,
   "id": "1600eaba",
   "metadata": {
    "scrolled": true
   },
   "outputs": [
    {
     "name": "stdout",
     "output_type": "stream",
     "text": [
      "Les peres han costat 1.98\n",
      "S'han comprat 3 fruites\n",
      "La fruita mes cara son Taronges\n"
     ]
    }
   ],
   "source": [
    "#%% Exercici4\n",
    "\n",
    "compra = {'Pomes' : {'qty': 5 ,'€': 0.42}, 'Peres' : {'qty': 3,'€': 0.66}}\n",
    "\n",
    "#Afegir una fruita\n",
    "compra['Taronges'] = {'qty': 10,'€': 4.45}\n",
    "\n",
    "print('Les peres han costat', compra['Peres']['qty'] * compra['Peres']['€'])\n",
    "\n",
    "print ('S\\'han comprat', len(compra), 'fruites')\n",
    "\n",
    "print('La fruita mes cara son ' + comparePrices(compra))"
   ]
  },
  {
   "cell_type": "code",
   "execution_count": null,
   "id": "51206fd1",
   "metadata": {},
   "outputs": [],
   "source": []
  }
 ],
 "metadata": {
  "kernelspec": {
   "display_name": "Python 3 (ipykernel)",
   "language": "python",
   "name": "python3"
  },
  "language_info": {
   "codemirror_mode": {
    "name": "ipython",
    "version": 3
   },
   "file_extension": ".py",
   "mimetype": "text/x-python",
   "name": "python",
   "nbconvert_exporter": "python",
   "pygments_lexer": "ipython3",
   "version": "3.7.11"
  }
 },
 "nbformat": 4,
 "nbformat_minor": 5
}
