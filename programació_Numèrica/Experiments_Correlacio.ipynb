{
 "cells": [
  {
   "cell_type": "code",
   "execution_count": null,
   "id": "0504dece",
   "metadata": {
    "code_folding": [
     3,
     8,
     12,
     19,
     31
    ]
   },
   "outputs": [],
   "source": [
    "import numpy as np\n",
    "\n",
    "#%% Functions\n",
    "def getMean(arr):\n",
    "    \n",
    "    #is len() or .size better?\n",
    "    return np.sum(arr)/arr.size\n",
    "\n",
    "def getDesvest(arr, mean):\n",
    "\n",
    "    return np.sqrt(np.sum((arr-mean)**2)/arr.size)\n",
    "\n",
    "def correlationCoef(x,y):\n",
    "    \n",
    "    xMean = getMean(x)    \n",
    "    yMean = getMean(y)\n",
    "    \n",
    "    return (np.sum((x-xMean)*(y-yMean)))/(np.sqrt(np.sum((x-xMean)**2)*np.sum((y-yMean)**2)))\n",
    "\n",
    "def correlModular(x,y):\n",
    "    \n",
    "    xMean = getMean(x)\n",
    "    xDesvest = getDesvest(x, xMean)\n",
    "    xProduct = x - xMean\n",
    "    \n",
    "    yMean = getMean(y)\n",
    "    yDesvest = getDesvest(y, yMean)\n",
    "    yProduct = y - yMean\n",
    "    \n",
    "    return np.sum(xProduct * yProduct)/(x.size * xDesvest * yDesvest)\n",
    "\n",
    "def oneDimRandGen(x):    \n",
    "    return np.random.randint(-20, 20, x.size)"
   ]
  },
  {
   "cell_type": "code",
   "execution_count": null,
   "id": "60fe3b5e",
   "metadata": {},
   "outputs": [],
   "source": [
    "#%% Experiments\n",
    "\n",
    "x = np.linspace(1, 50, 1000)\n",
    "\n",
    "y0 = np.linspace(50, 100, x.size)\n",
    "print('R basic ops', correlationCoef(x,y0))\n",
    "print('R modular', correlModular(x,y0))\n",
    "print('R numpy', np.corrcoef(x,y0),'\\n')"
   ]
  },
  {
   "cell_type": "code",
   "execution_count": null,
   "id": "afb4e72e",
   "metadata": {},
   "outputs": [],
   "source": [
    "y1 = 5*x + 2\n",
    "print('R basic ops', correlationCoef(x,y1))\n",
    "print('R modular', correlModular(x,y1))\n",
    "print('R numpy', np.corrcoef(x,y1),'\\n')"
   ]
  },
  {
   "cell_type": "code",
   "execution_count": null,
   "id": "6bec9f4f",
   "metadata": {},
   "outputs": [],
   "source": [
    "y2 = x**2 + 4*x - 5\n",
    "print('R basic ops', correlationCoef(x,y2))\n",
    "print('R modular', correlModular(x,y2))\n",
    "print('R numpy', np.corrcoef(x,y2),'\\n')"
   ]
  },
  {
   "cell_type": "code",
   "execution_count": null,
   "id": "ad02f973",
   "metadata": {},
   "outputs": [],
   "source": [
    "y3 = 1/x\n",
    "print('R basic ops', correlationCoef(x,y3))\n",
    "print('R modular', correlModular(x,y3))\n",
    "print('R numpy', np.corrcoef(x,y3),'\\n')"
   ]
  },
  {
   "cell_type": "code",
   "execution_count": null,
   "id": "f629804e",
   "metadata": {},
   "outputs": [],
   "source": [
    "y4 = np.sqrt(x+3)\n",
    "print('R basic ops', correlationCoef(x,y4))\n",
    "print('R modular', correlModular(x,y4))\n",
    "print('R numpy', np.corrcoef(x,y4),'\\n')\n",
    " "
   ]
  },
  {
   "cell_type": "code",
   "execution_count": null,
   "id": "1f6973f4",
   "metadata": {},
   "outputs": [],
   "source": [
    "y5 = np.exp(y1)\n",
    "print('R basic ops', correlationCoef(x,y5))\n",
    "print('R modular', correlModular(x,y5))\n",
    "print('R numpy', np.corrcoef(x,y5),'\\n')"
   ]
  },
  {
   "cell_type": "code",
   "execution_count": null,
   "id": "25294ee7",
   "metadata": {},
   "outputs": [],
   "source": [
    "#If we have suspicions of an exponential dependency, we can tweak the x \n",
    "#variable a bit, so that we end up with a linear dependency ;D\n",
    "xx=np.exp(x)\n",
    "print('R basic ops', correlationCoef(xx,y5))\n",
    "print('R modular', correlModular(xx,y5))\n",
    "print('R numpy', np.corrcoef(xx,y5),'\\n')"
   ]
  },
  {
   "cell_type": "code",
   "execution_count": null,
   "id": "e3e34dfb",
   "metadata": {},
   "outputs": [],
   "source": [
    "y6 = y0 + oneDimRandGen(x) #applying a bit of randomnes reduces the correlation\n",
    "print('R basic ops', correlationCoef(x, y6))\n",
    "print('R modular', correlModular(x,y6))\n",
    "print('R numpy', np.corrcoef(x,y6),'\\n')"
   ]
  }
 ],
 "metadata": {
  "anaconda-cloud": {},
  "kernelspec": {
   "display_name": "Python 3 (ipykernel)",
   "language": "python",
   "name": "python3"
  },
  "language_info": {
   "codemirror_mode": {
    "name": "ipython",
    "version": 3
   },
   "file_extension": ".py",
   "mimetype": "text/x-python",
   "name": "python",
   "nbconvert_exporter": "python",
   "pygments_lexer": "ipython3",
   "version": "3.7.11"
  }
 },
 "nbformat": 4,
 "nbformat_minor": 5
}
