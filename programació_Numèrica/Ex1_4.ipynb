{
 "cells": [
  {
   "cell_type": "markdown",
   "id": "013b1aa2",
   "metadata": {
    "code_folding": []
   },
   "source": [
    "## Exercici1\n",
    "Crea una funció que donat un Array d’una dimensió, \n",
    "et faci un resum estadístic bàsic de les dades. Si detecta que l’array té més d’una dimensió, ha de mostrar un missatge d’error."
   ]
  },
  {
   "cell_type": "code",
   "execution_count": 4,
   "id": "9395b611",
   "metadata": {
    "code_folding": [
     5,
     22,
     32,
     43,
     58,
     63
    ]
   },
   "outputs": [],
   "source": [
    "import numpy as np\n",
    "import scipy.stats as spst\n",
    "import matplotlib.pyplot as plt\n",
    "\n",
    "#%% Functions\n",
    "def randArrGen():\n",
    "    \n",
    "    dim1 = np.random.randint(1,20) \n",
    "    dim2 = np.random.randint(2,500)\n",
    "    dimtup = ()\n",
    "    \n",
    "    #A silly condition, so that we have both cases\n",
    "    if dim2%dim1 == 0 :\n",
    "        dimtup = (dim1, dim2)\n",
    "    \n",
    "    else:\n",
    "        dimtup = (dim1)\n",
    "    \n",
    "    #This way, rectangular arrays are created  \n",
    "    \n",
    "    return np.random.randint(0, 50, size=dimtup)    \n",
    "\n",
    "def checkDim(aArray):\n",
    "    \n",
    "    is1Dim = False\n",
    "    \n",
    "    #for rectangular arrays, this is enough to verificate 1-dim\n",
    "    if len(aArray.shape) == 1:\n",
    "        is1Dim = True\n",
    "    \n",
    "    return is1Dim\n",
    "\n",
    "def histogram(arr, arrMax, arrMin):\n",
    "    \n",
    "    #This could be done with np.histogram\n",
    "    arrHist = np.array(range(arrMin, arrMax+1))\n",
    "    arrCount = np.zeros(arrHist.shape)\n",
    "    \n",
    "    for i in arr:\n",
    "        arrCount[arrHist[i - arrMin]-arrMin] += 1\n",
    "    \n",
    "    return arrHist, arrCount\n",
    "\n",
    "def plotHistogram(x,y):\n",
    "    \n",
    "    plt.close()\n",
    "    \n",
    "    plt.interactive(True)    \n",
    "    ax = plt.figure().gca()\n",
    "    plt.title('Histograma de la matriu')\n",
    "    plt.ylabel('Number of occurrence')\n",
    "    plt.xlabel('Element in Array')\n",
    "    \n",
    "    #yAxis with only integers!!\n",
    "    ax.yaxis.get_major_locator().set_params(integer=True)\n",
    "    plt.grid()\n",
    "    plt.bar(x,y)\n",
    "    \n",
    "def getMean(arr):\n",
    "    \n",
    "    #is len() or .size better?\n",
    "    return np.sum(arr)/arr.size \n",
    "\n",
    "def getDesvest(arr, mean):\n",
    "\n",
    "    return np.sqrt(np.sum((arr-mean)**2)/arr.size)"
   ]
  },
  {
   "cell_type": "code",
   "execution_count": 5,
   "id": "ab19c25d",
   "metadata": {
    "code_folding": []
   },
   "outputs": [
    {
     "name": "stdout",
     "output_type": "stream",
     "text": [
      "La moda es [[ 7 36]]\n",
      "La mitjana es 21.5\n",
      "La sigma es 14.5\n",
      "DescribeResult(nobs=2, minmax=(7, 36), mean=21.5, variance=420.5, skewness=0.0, kurtosis=-2.0)\n"
     ]
    },
    {
     "data": {
      "image/png": "[encoded data removed]",
      "text/plain": [
       "<Figure size 432x288 with 1 Axes>"
      ]
     },
     "metadata": {
      "needs_background": "light"
     },
     "output_type": "display_data"
    }
   ],
   "source": [
    "#%% Ex1\n",
    "\n",
    "arr = randArrGen()\n",
    "\n",
    "is1Dim = checkDim(arr)\n",
    "\n",
    "if is1Dim:\n",
    "    \n",
    "    arrMax = np.amax(arr)\n",
    "    arrMin = np.amin(arr)\n",
    "    \n",
    "    arrHist, arrCount = histogram(arr, arrMax, arrMin)    \n",
    "    plotHistogram(arrHist, arrCount)\n",
    "    \n",
    "    #Works for more than one mode\n",
    "    mode = np.where(arrCount == np.amax(arrCount) ) + arrMin\n",
    "    print('La moda es', mode)\n",
    "    \n",
    "    mean = getMean(arr)\n",
    "    print('La mitjana es', mean)\n",
    "    \n",
    "    desvest = getDesvest(arr, mean)\n",
    "    print('La sigma es', desvest)\n",
    "    \n",
    "    print(spst.describe(arr)) #nice\n",
    "    \n",
    "else:\n",
    "    print('Error, la matriu hauria de tenir 1 dimensio')\n",
    "    "
   ]
  },
  {
   "cell_type": "markdown",
   "id": "59b4b2fd",
   "metadata": {
    "code_folding": []
   },
   "source": [
    "## Exercici 2\n",
    "Crea una funció que et generi un quadrat NxN de nombres aleatoris entre el 0 i el 100."
   ]
  },
  {
   "cell_type": "code",
   "execution_count": 6,
   "id": "f31c066d",
   "metadata": {
    "code_folding": [
     5,
     22,
     32,
     43,
     58,
     63,
     67,
     72,
     81,
     86
    ]
   },
   "outputs": [],
   "source": [
    "        \n",
    "def nxn100(): #Random nxn (at most 50x50) matrixes\n",
    "    \n",
    "    dim = np.random.randint(1,50)     \n",
    "    return np.random.randint(0, 101, size=(dim, dim))"
   ]
  },
  {
   "cell_type": "code",
   "execution_count": 7,
   "id": "20b3c526",
   "metadata": {},
   "outputs": [
    {
     "name": "stdout",
     "output_type": "stream",
     "text": [
      "[[ 25  69  61  36  40   0  47   6  81  11  31  40  14   5  60  25   5  64\n",
      "   70  13  46  29  57  60  97  75  46  68  23  42]\n",
      " [ 59  90  49  93  18  55  64  46  31  52  93  25  13  45  77  17  46  37\n",
      "   54   3  88  82  52  27   1  97  40  27  24  43]\n",
      " [ 42   1   5  95  15  78  19  51  44  11  59  93  33   6  64  24  44  30\n",
      "   11  34  87  57   7  14  80  37  96  81  52  10]\n",
      " [ 90  42  18  62  77  17  34  78  39  52   4  46  60  52  92  38  48  11\n",
      "    8  99  87  16  64  28  74  28  47  40  32  82]\n",
      " [ 46  37 100  43  82  19  73  81  51  95   4  55   4  46  79  95  88  66\n",
      "   32  83   1  97  84  39  54  72  50  20  82  46]\n",
      " [ 45  64  54  79  50  98  33  10  90  98  84  15  39  91  29  61  99  12\n",
      "   17  77  94  50  30   9  50  74   6  91  59  78]\n",
      " [ 72  99  52  26  86  72  86  11  37  71  21  13  93  30  41  99  96  77\n",
      "    9  27  86  43  25  98   1  45  30  54  31  72]\n",
      " [  8  57  18  12  74  17  78  95  34  44  56  76  73  22  69  75  32  42\n",
      "   46  77  34  37  76  37  13  40  19  56  71  69]\n",
      " [ 20  64   5  80  96  97  83  67  58  79  92  51  14  23  94  17  68  94\n",
      "   60  69  10  76  86  67   1  80  63  17  85  93]\n",
      " [ 62  30  40  24  18  89  37   5  50  51  34  59  13  40  61  48  80  33\n",
      "    2   7  35  89  54  42  48  74  62   4  51  46]\n",
      " [ 60  56  90  26  32  22 100  15  56  25  18  42  40  59  38  58   1   1\n",
      "   71  18  71  61  89  70  43 100  22  88  16  84]\n",
      " [ 54  60  27   0  19  46  95  34   7  46  93  56  33  93  97  33   9  93\n",
      "   74  11  45 100  38   0  77   6  28  97  20  95]\n",
      " [ 33  41  64  93  19  30  92  96  98  72  41  37   9  57  85  22  14  46\n",
      "   48   7  78  28  54  94  68  85  17  28  12  65]\n",
      " [ 78  65  50  58  12  32  12   9  68  35  39  69  15  55   4  82  34  47\n",
      "   91  50  54   3  78  99  99  93  24   8   8  30]\n",
      " [ 25  52   7  14   9  91  53   2  45  65  10  84  81  97  16  32  25  23\n",
      "   29   4   7  51  16   5  53  56  26  41  75  54]\n",
      " [ 30  99  10  64  36  56  47  68  58  23  22  56  33  33   7  84  60   4\n",
      "   29  97  69  58   8   2  91  60  89  26   7  49]\n",
      " [ 82 100  28  79  82  56  31  25  52  26  95  48  35  82  56  65  14  83\n",
      "   36  30  98  61  47  36  34  28  76  74  58   3]\n",
      " [ 70  82  82  15  68  41  61  48  21  45   0  38  88  68  41  10  63  50\n",
      "   93   6  58  73  10  58  84  18  74  48  17  75]\n",
      " [ 56  39  42  88  21  21  73  78  55  69  13  30  67  23  30   9  25  67\n",
      "   61  43  37  84  83  34  30  66   7  11  11  62]\n",
      " [  9  29   7  96  45  34  90  50  26  81   1  25  43  50  82  61  57  64\n",
      "   87  30  97  73  58  45  15  15  79  59   4  79]\n",
      " [ 68  87  34  84  92  77  61  58   2  22  86  78   1  66  12  18  37  95\n",
      "   92  84  82   7  76  14  73  94  47  60  49  33]\n",
      " [ 62  14  26   2  52  89  79  33  70  45  25  69  37  35  11  27   4  49\n",
      "   69  19  27  95  80  96  16  82  53  84  50  45]\n",
      " [  5  82  83  56  47  97  50  83  90  62  88  67  98  66  39  45  87  11\n",
      "   92   1  95  92   5  33  18  21  28  93  19  12]\n",
      " [ 52  77  26  78  23  77  58  41  32  76   7  55  60   4  64  42   0  77\n",
      "   72  41  41  99  21  71  46  94  38  19  50  76]\n",
      " [ 33  85  43 100  79   7  70  13  72  49  46  95  92  62  41  16  16  22\n",
      "   14  93   9  26  96  84  92  26  33  36  91  60]\n",
      " [ 91  65  18  65  70  82 100  47  59  17  25  61   7  70  69  57  75  58\n",
      "   80  69  30  48  52  99   1  76  16  24  13  95]\n",
      " [ 36  38  38  93  54  97  82  66  86  27  28  13  38  83  56  29  65  94\n",
      "   67  61  10  86  57  66   0  16  85   7  87  45]\n",
      " [ 35  19  62  59  72  18  78   1  82  89  91  61  63  82  39  66  14  21\n",
      "   34  48  77   7  94  26  14  16  20  26  52  57]\n",
      " [ 62  44  81  51  32  20  62  35  16  19  93  67  23  97  80  73  39  49\n",
      "   18  12  20  38  41  93  66  15   4  37  32  99]\n",
      " [ 52  58  90  38  23  29  16  15  31  88  29  82  47  77  43  43  88  46\n",
      "   36  48  95  98 100  51  60  12  43  63  44  54]]\n"
     ]
    }
   ],
   "source": [
    "#%% Ex2\n",
    "\n",
    "nxn100 = nxn100()\n",
    "\n",
    "print(nxn100)"
   ]
  },
  {
   "cell_type": "markdown",
   "id": "0008e2e4",
   "metadata": {},
   "source": [
    "## Exercici 3\n",
    "Crea una funció que donada una taula de dues dimensions, et calculi els totals per fila i els totals per columna. "
   ]
  },
  {
   "cell_type": "code",
   "execution_count": 8,
   "id": "8eabfa14",
   "metadata": {},
   "outputs": [],
   "source": [
    "def totalRowsColumns(arrNxn):\n",
    "    \n",
    "    sumRows = [np.sum(i) for i in arrNxn] #the elements inside the array, are the lists conforming the rows\n",
    "    \n",
    "    #To sum the columns we have to do a bit of slicing\n",
    "    sumColumns = [np.sum(arrNxn[:,i]) for i in range(arrNxn.shape[1])]\n",
    "                  \n",
    "    return sumRows, sumColumns"
   ]
  },
  {
   "cell_type": "code",
   "execution_count": 9,
   "id": "fc15591a",
   "metadata": {},
   "outputs": [
    {
     "name": "stdout",
     "output_type": "stream",
     "text": [
      "Suma de les files:\n",
      " [1246, 1448, 1280, 1465, 1724, 1686, 1603, 1457, 1809, 1288, 1472, 1486, 1533, 1401, 1148, 1375, 1620, 1505, 1335, 1491, 1689, 1445, 1665, 1517, 1601, 1639, 1610, 1423, 1418, 1599]\n",
      "Suma de les columnes:\n",
      " [1462, 1745, 1310, 1709, 1443, 1564, 1864, 1267, 1541, 1545, 1328, 1606, 1266, 1619, 1576, 1371, 1333, 1466, 1502, 1261, 1668, 1764, 1638, 1497, 1399, 1601, 1268, 1387, 1225, 1753]\n"
     ]
    }
   ],
   "source": [
    "#%% Ex3\n",
    "\n",
    "sumRows, sumColumns = totalRowsColumns(nxn100)\n",
    "\n",
    "print('Suma de les files:\\n',sumRows)\n",
    "print('Suma de les columnes:\\n',sumColumns)"
   ]
  },
  {
   "cell_type": "markdown",
   "id": "fc8f29e8",
   "metadata": {},
   "source": [
    "## Exercici 4\n",
    "Implementa manualment una funció que calculi el coeficient de correlació. Informa’t-en sobre els seus usos i interpretació."
   ]
  },
  {
   "cell_type": "code",
   "execution_count": 10,
   "id": "3868dfdf",
   "metadata": {},
   "outputs": [],
   "source": [
    "def oneDimRandGen():\n",
    "    dim = np.random.randint(50,200)\n",
    "    \n",
    "    return np.random.randint(0, 50, size= (dim))\n",
    "    \n",
    "def correlationCoef(x,y):\n",
    "    \n",
    "    xMean = getMean(x)    \n",
    "    yMean = getMean(y)\n",
    "    \n",
    "    return (np.sum((x-xMean)*(y-yMean)))/(np.sqrt(np.sum((x-xMean)**2)*np.sum((y-yMean)**2)))"
   ]
  },
  {
   "cell_type": "code",
   "execution_count": 11,
   "id": "cd46b7bd",
   "metadata": {},
   "outputs": [
    {
     "name": "stdout",
     "output_type": "stream",
     "text": [
      "0.044694064068280574\n"
     ]
    }
   ],
   "source": [
    "#%% Ex4\n",
    "\n",
    "x = oneDimRandGen()\n",
    "\n",
    "#x = np.linspace(0,50,20) #This would yield a correlation coeficient of 1\n",
    "\n",
    "y = np.linspace(100, 500, x.size) #For our function, both arrays must be the same length\n",
    "\n",
    "print(correlationCoef(x, y))"
   ]
  },
  {
   "cell_type": "code",
   "execution_count": null,
   "id": "1b9471c5",
   "metadata": {},
   "outputs": [],
   "source": []
  },
  {
   "cell_type": "code",
   "execution_count": null,
   "id": "b70385b6",
   "metadata": {},
   "outputs": [],
   "source": []
  },
  {
   "cell_type": "code",
   "execution_count": null,
   "id": "e8f767aa",
   "metadata": {},
   "outputs": [],
   "source": []
  }
 ],
 "metadata": {
  "anaconda-cloud": {},
  "kernelspec": {
   "display_name": "Python 3 (ipykernel)",
   "language": "python",
   "name": "python3"
  },
  "language_info": {
   "codemirror_mode": {
    "name": "ipython",
    "version": 3
   },
   "file_extension": ".py",
   "mimetype": "text/x-python",
   "name": "python",
   "nbconvert_exporter": "python",
   "pygments_lexer": "ipython3",
   "version": "3.7.11"
  }
 },
 "nbformat": 4,
 "nbformat_minor": 5
}
