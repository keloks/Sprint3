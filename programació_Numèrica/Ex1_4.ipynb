{
 "cells": [
  {
   "cell_type": "code",
   "execution_count": 2,
   "id": "f31c066d",
   "metadata": {
    "code_folding": [
     4,
     21,
     31,
     42,
     57,
     62,
     66,
     71,
     80,
     85
    ]
   },
   "outputs": [],
   "source": [
    "import numpy as np\n",
    "import matplotlib.pyplot as plt\n",
    "\n",
    "#%% Functions\n",
    "def randArrGen():\n",
    "    \n",
    "    dim1 = np.random.randint(1,20) \n",
    "    dim2 = np.random.randint(2,500)\n",
    "    dimtup = ()\n",
    "    \n",
    "    #A silly condition, so that we have both cases\n",
    "    if dim2%dim1 == 0 :\n",
    "        dimtup = (dim1, dim2)\n",
    "    \n",
    "    else:\n",
    "        dimtup = (dim1)\n",
    "    \n",
    "    #This way, rectangular arrays are created  \n",
    "    \n",
    "    return np.random.randint(0, 50, size=dimtup)    \n",
    "\n",
    "def checkDim(aArray):\n",
    "    \n",
    "    is1Dim = False\n",
    "    \n",
    "    #for rectangular arrays, this is enough to verificate 1-dim\n",
    "    if len(aArray.shape) == 1:\n",
    "        is1Dim = True\n",
    "    \n",
    "    return is1Dim\n",
    "\n",
    "def histogram(arr, arrMax, arrMin):\n",
    "    \n",
    "    #This could be done with np.histogram\n",
    "    arrHist = np.array(range(arrMin, arrMax+1))\n",
    "    arrCount = np.zeros(arrHist.shape)\n",
    "    \n",
    "    for i in arr:\n",
    "        arrCount[arrHist[i - arrMin]-arrMin] += 1\n",
    "    \n",
    "    return arrHist, arrCount\n",
    "\n",
    "def plotHistogram(x,y):\n",
    "    \n",
    "    plt.close()\n",
    "    \n",
    "    plt.interactive(True)    \n",
    "    ax = plt.figure().gca()\n",
    "    plt.title('Histograma de la matriu')\n",
    "    plt.ylabel('Number of occurrence')\n",
    "    plt.xlabel('Element in Array')\n",
    "    \n",
    "    #yAxis with only integers!!\n",
    "    ax.yaxis.get_major_locator().set_params(integer=True)\n",
    "    plt.grid()\n",
    "    plt.bar(x,y)\n",
    "    \n",
    "def getMean(arr):\n",
    "    \n",
    "    #is len() or .size better?\n",
    "    return np.sum(arr)/arr.size \n",
    "\n",
    "def getDesvest(arr, mean):\n",
    "\n",
    "    return np.sqrt(np.sum((arr-mean)**2)/arr.size)\n",
    "        \n",
    "def nxn100(): #Random nxn (at most 50x50) matrixes\n",
    "    \n",
    "    dim = np.random.randint(1,50)     \n",
    "    return np.random.randint(0, 101, size=(dim, dim))\n",
    "\n",
    "def totalRowsColumns(arrNxn):\n",
    "    \n",
    "    sumRows = [np.sum(i) for i in arrNxn] #the elements inside the array, are the lists conforming the rows\n",
    "    \n",
    "    #To sum the columns we have to do a bit of slicing\n",
    "    sumColumns = [np.sum(arrNxn[:,i]) for i in range(arrNxn.shape[1])]\n",
    "                  \n",
    "    return sumRows, sumColumns\n",
    "\n",
    "def oneDimRandGen():\n",
    "    dim = np.random.randint(50,200)\n",
    "    \n",
    "    return np.random.randint(0, 50, size= (dim))\n",
    "    \n",
    "def correlationCoef(x,y):\n",
    "    \n",
    "    xMean = getMean(x)    \n",
    "    yMean = getMean(y)\n",
    "    \n",
    "    return (np.sum((x-xMean)*(y-yMean)))/(np.sqrt(np.sum((x-xMean)**2)*np.sum((y-yMean)**2)))"
   ]
  },
  {
   "cell_type": "code",
   "execution_count": 3,
   "id": "c0ed3524",
   "metadata": {},
   "outputs": [
    {
     "name": "stdout",
     "output_type": "stream",
     "text": [
      "La moda es [[ 0 13 23 28 31 38 46 49]]\n",
      "La mitjana es 28.5\n",
      "La sigma es 15.435349040433131\n"
     ]
    },
    {
     "data": {
      "image/png": "[encoded data removed]",
      "text/plain": [
       "<Figure size 432x288 with 1 Axes>"
      ]
     },
     "metadata": {
      "needs_background": "light"
     },
     "output_type": "display_data"
    }
   ],
   "source": [
    "#%% Ex1\n",
    "\n",
    "arr = randArrGen()\n",
    "\n",
    "is1Dim = checkDim(arr)\n",
    "\n",
    "if is1Dim:\n",
    "    \n",
    "    arrMax = np.amax(arr)\n",
    "    arrMin = np.amin(arr)\n",
    "    \n",
    "    element, freq = histogram(arr, arrMax, arrMin)    \n",
    "    plotHistogram(element, freq)\n",
    "    \n",
    "    #Works for more than one mode\n",
    "    mode = np.where(freq == np.amax(freq) ) + arrMin\n",
    "    print('La moda es', mode)\n",
    "    \n",
    "    mean = getMean(arr)\n",
    "    print('La mitjana es', mean)\n",
    "    \n",
    "    desvest = getDesvest(arr, mean)\n",
    "    print('La sigma es', desvest)\n",
    "    \n",
    "else:\n",
    "    print('Error, la matriu hauria de tenir 1 dimensio')\n",
    "    "
   ]
  },
  {
   "cell_type": "code",
   "execution_count": 4,
   "id": "8eabfa14",
   "metadata": {},
   "outputs": [
    {
     "name": "stdout",
     "output_type": "stream",
     "text": [
      "[[  1  94  86  61  15  57   7  78  88  33  84  25  96  69  33  31  78  15\n",
      "   73  11  84]\n",
      " [ 48  63  65  17  36  43  46  63  51   1  75  25  57  42  96  47  52   0\n",
      "   35  52  97]\n",
      " [ 38   3  74  22  16  97  38  10  41  87  25  29  49  23  32  28   8  91\n",
      "   55  41  86]\n",
      " [ 98  15  66  79   1  34   5  89  70  93  83  22  30  97  13  67  99  99\n",
      "   13  42  16]\n",
      " [ 20  74  77  10  82  95  87  24  25  82  92  28  56  99  73  25  30   0\n",
      "    4  12  20]\n",
      " [ 46  79  34  30  25  58  97  53  22  13  34  84  58  56  76  13  64  38\n",
      "   92  43  83]\n",
      " [  5   6  38  87  86  16  96  36 100  45  50  94  78  48   4  54  77  39\n",
      "   10   2  75]\n",
      " [ 58  99  86  84  47  95  64 100  83  33  13  87  90  55  21  80  21  63\n",
      "   22  38  45]\n",
      " [  7  39  61   8  54  61  64  16  72  81  80  59  10  63  80  25  26   2\n",
      "   16  47   7]\n",
      " [ 69  88  81  39  70  21  14  32  36  42  17  76  72  71  74   8  81  54\n",
      "   78  27  36]\n",
      " [  5  21  11  77  96  22 100  89  96  76  10  25  16  57  66  91  79  36\n",
      "   95  47  10]\n",
      " [ 19  48  44  30  38  43  35  23  41  36  49  34  84  45  25  34  61   6\n",
      "   65  41  50]\n",
      " [ 51  45  61  96  14  11  10  67  72   5  12  51  47  11  17  18  15  76\n",
      "   95   9  50]\n",
      " [ 63  86  72  59   9  32  79   1  49  56  92  94  48  83  44  16  63  69\n",
      "   65  59  38]\n",
      " [ 52  17  98  56  50   0  70  82  13  60  58  79  36  47  62  99  65  79\n",
      "  100   7  15]\n",
      " [  9  18  40   7  85  61  44  89  44  98  95  88  79  45  44  94  22  24\n",
      "   90  24   4]\n",
      " [ 13  11  14  79  54  52   1  11  98  44  61  70  38  51  67  15  61  27\n",
      "   52  81  28]\n",
      " [ 49  10  12  67  35  73   7  84  12 100  35  59  35  75  52  78  53  42\n",
      "   95  18  67]\n",
      " [ 53  12  12  89  97  93   8  51  75  92  40  42  11  23  96 100  55  50\n",
      "   74  86  27]\n",
      " [ 15  68  42  97  85  74  95 100  29  52  19  38  61  65  66   9  80  68\n",
      "   49  85 100]\n",
      " [ 50  69  33  93  64  74  71  86  86  31  92  37   6  54  21  26  68   0\n",
      "   50  88  27]]\n"
     ]
    }
   ],
   "source": [
    "#%% Ex2\n",
    "\n",
    "nxn100 = nxn100()\n",
    "\n",
    "print(nxn100)"
   ]
  },
  {
   "cell_type": "code",
   "execution_count": 5,
   "id": "fc15591a",
   "metadata": {},
   "outputs": [
    {
     "name": "stdout",
     "output_type": "stream",
     "text": [
      "Suma de les files:\n",
      " [1119, 1011, 893, 1131, 1015, 1098, 1046, 1284, 878, 1086, 1125, 851, 833, 1177, 1145, 1104, 928, 1058, 1186, 1297, 1126]\n",
      "Suma de les columnes:\n",
      " [769, 965, 1107, 1187, 1059, 1112, 1038, 1184, 1203, 1160, 1116, 1146, 1057, 1179, 1062, 958, 1158, 878, 1228, 860, 965]\n"
     ]
    }
   ],
   "source": [
    "#%% Ex3\n",
    "\n",
    "sumRows, sumColumns = totalRowsColumns(nxn100)\n",
    "\n",
    "print('Suma de les files:\\n',sumRows)\n",
    "print('Suma de les columnes:\\n',sumColumns)"
   ]
  },
  {
   "cell_type": "code",
   "execution_count": 6,
   "id": "cd46b7bd",
   "metadata": {},
   "outputs": [
    {
     "name": "stdout",
     "output_type": "stream",
     "text": [
      "-0.001442543034750261\n"
     ]
    }
   ],
   "source": [
    "#%% Ex4\n",
    "\n",
    "x = oneDimRandGen()\n",
    "\n",
    "#x = np.linspace(0,50,20) #This would yield a correlation coeficient of 1\n",
    "\n",
    "y = np.linspace(100, 500, x.size) #For our function, both arrays must be the same length\n",
    "\n",
    "print(correlationCoef(x, y))"
   ]
  },
  {
   "cell_type": "code",
   "execution_count": null,
   "id": "1b9471c5",
   "metadata": {},
   "outputs": [],
   "source": []
  }
 ],
 "metadata": {
  "anaconda-cloud": {},
  "kernelspec": {
   "display_name": "Python 3 (ipykernel)",
   "language": "python",
   "name": "python3"
  },
  "language_info": {
   "codemirror_mode": {
    "name": "ipython",
    "version": 3
   },
   "file_extension": ".py",
   "mimetype": "text/x-python",
   "name": "python",
   "nbconvert_exporter": "python",
   "pygments_lexer": "ipython3",
   "version": "3.7.11"
  }
 },
 "nbformat": 4,
 "nbformat_minor": 5
}
