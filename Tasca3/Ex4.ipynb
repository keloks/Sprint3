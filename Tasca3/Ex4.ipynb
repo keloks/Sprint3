{
 "cells": [
  {
   "cell_type": "code",
   "execution_count": 1,
   "id": "2fd33fb2",
   "metadata": {},
   "outputs": [],
   "source": [
    "#%% Functions\n",
    "\n",
    "def invertList(aList): #For 1-d\n",
    "    return aList[::-1]\n",
    "\n",
    "def checkForRectangular(aList):\n",
    "    \n",
    "    rectangular = True\n",
    "    \n",
    "    for i in aList:\n",
    "        if len(i) != len(aList[0]):\n",
    "            rectangular = False\n",
    "    \n",
    "    return rectangular\n",
    "\n",
    "def makeTranspose(aList): #Manually transpose the matrix\n",
    "        \n",
    "    width = len(aList[0][:])\n",
    "    height = len(aList[:][0])\n",
    "    \n",
    "    '''It is counterintuitive how python manages\n",
    "    memory acces for lists/arrays. The method below involves\n",
    "    creating a separate list/matrix so we can later iterate over\n",
    "    it without affecting the original matrix. There may be\n",
    "    a better, cleaner way'''\n",
    "    \n",
    "    transpose = [[0]*width for i in range(height)]#Create a transpose of zeros    \n",
    "    \n",
    "    for i in range(width):\n",
    "        for j in range(height):  \n",
    "            \n",
    "            transpose[i][j] = aList[j][i]            \n",
    "    \n",
    "    return transpose\n",
    "            \n",
    "    \n",
    "def makeTransposeZip(alist):  #Clever transpose method with zip   \n",
    "    \n",
    "    transpose = [list(i) for i in zip(*alist)]    \n",
    "        \n",
    "    return transpose"
   ]
  },
  {
   "cell_type": "code",
   "execution_count": 2,
   "id": "abdb7f81",
   "metadata": {},
   "outputs": [
    {
     "name": "stdout",
     "output_type": "stream",
     "text": [
      "La llista es simetrica i te 9 elements\n"
     ]
    }
   ],
   "source": [
    "#%% Ex4\n",
    "\n",
    "#aList = [5,2,4,3,5]\n",
    "\n",
    "aList = [[1, 2, 3], [2, 7, 9], [3, 9, 8]]\n",
    "\n",
    "if not type(aList[0]) == list: #if the first element is not a list, we assume 1-d\n",
    "    \n",
    "    inverse = invertList(aList)\n",
    "    \n",
    "    if inverse == aList:\n",
    "        print('La llista es simetrica i te', len(aList), 'elements')\n",
    "    \n",
    "    else: \n",
    "        print('La llista no es simetrica')\n",
    "\n",
    "\n",
    "else: #Otherwise, we assume 2-d\n",
    "        \n",
    "    if checkForRectangular(aList): #For it to be simmetrical, it has to be rectangular\n",
    "        \n",
    "        transpose = makeTranspose(aList)\n",
    "        \n",
    "        if transpose == aList:\n",
    "            print('La llista es simetrica i te', \n",
    "                  len(aList)*len(aList[0]), 'elements')\n",
    "        \n",
    "        else:\n",
    "            print('La llista no es simetrica')\n",
    "            \n",
    "    else:\n",
    "        print('La llista no es simetrica') #See comments above"
   ]
  },
  {
   "cell_type": "code",
   "execution_count": null,
   "id": "0f0c21de",
   "metadata": {},
   "outputs": [],
   "source": []
  }
 ],
 "metadata": {
  "kernelspec": {
   "display_name": "Python 3 (ipykernel)",
   "language": "python",
   "name": "python3"
  },
  "language_info": {
   "codemirror_mode": {
    "name": "ipython",
    "version": 3
   },
   "file_extension": ".py",
   "mimetype": "text/x-python",
   "name": "python",
   "nbconvert_exporter": "python",
   "pygments_lexer": "ipython3",
   "version": "3.7.11"
  }
 },
 "nbformat": 4,
 "nbformat_minor": 5
}
