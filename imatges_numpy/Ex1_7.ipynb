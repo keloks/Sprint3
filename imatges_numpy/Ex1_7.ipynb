{
 "cells": [
  {
   "cell_type": "markdown",
   "id": "7daf4218",
   "metadata": {},
   "source": [
    "## Exercici 1\n",
    "Crea un np.array d'una dimensió, que inclogui l'almenys 8 nombres sencers, data type int64. Mostra la dimensió i la forma de la matriu. . "
   ]
  },
  {
   "cell_type": "code",
   "execution_count": 1,
   "id": "3bad97a4",
   "metadata": {},
   "outputs": [],
   "source": [
    "import numpy as np"
   ]
  },
  {
   "cell_type": "code",
   "execution_count": 2,
   "id": "25ed7375",
   "metadata": {},
   "outputs": [
    {
     "name": "stdout",
     "output_type": "stream",
     "text": [
      "[490 436 489 237 195 438 130 478 191]\n",
      "La dimensio de la matriu es 1\n"
     ]
    }
   ],
   "source": [
    "#%% Ex1\n",
    "\n",
    "#size of 1d array\n",
    "size1D = np.random.randint(8,15)\n",
    "\n",
    "#dtype = np.int64\n",
    "randArray = np.random.randint(0,500, size=size1D, dtype = np.int64)\n",
    "\n",
    "print(randArray)\n",
    "print('La dimensio de la matriu es', randArray.ndim)"
   ]
  },
  {
   "cell_type": "markdown",
   "id": "358e46d1",
   "metadata": {},
   "source": [
    "## Exercici 2\n",
    "De la matriu de l'exercici 1, calcula el valor mitjà dels valors introduïts i resta la mitjana resultant de cada un dels valors de la matriu."
   ]
  },
  {
   "cell_type": "code",
   "execution_count": 3,
   "id": "db7193ef",
   "metadata": {},
   "outputs": [
    {
     "name": "stdout",
     "output_type": "stream",
     "text": [
      "342.6666666666667\n",
      "[ 147.33333333   93.33333333  146.33333333 -105.66666667 -147.66666667\n",
      "   95.33333333 -212.66666667  135.33333333 -151.66666667]\n"
     ]
    }
   ],
   "source": [
    "#%% Ex2\n",
    "\n",
    "#mean\n",
    "mean = np.mean(randArray)\n",
    "print(mean)\n",
    "\n",
    "minusMean = randArray-mean\n",
    "print(minusMean)"
   ]
  },
  {
   "cell_type": "markdown",
   "id": "fd413acd",
   "metadata": {},
   "source": [
    "## Exercici 3\n",
    "Crea una matriu bidimensional amb una forma de 5 x 5. Extreu el valor màxim de la matriu, i els valors màxims de cadascun dels seus eixos."
   ]
  },
  {
   "cell_type": "code",
   "execution_count": 4,
   "id": "53911cc1",
   "metadata": {},
   "outputs": [
    {
     "name": "stdout",
     "output_type": "stream",
     "text": [
      "[[301 309 184 498 194]\n",
      " [451 251 244 154 149]\n",
      " [179 245 286 175 305]\n",
      " [132 387  97 462 152]\n",
      " [ 44 337 400  14 496]]\n",
      "498\n",
      "[498 451 305 462 496]\n",
      "[451 387 400 498 496]\n"
     ]
    }
   ],
   "source": [
    "#%% Ex3\n",
    "\n",
    "#in size pass a tuple. Matrix 5x5 ---> size=(5,5), this will be the shape\n",
    "randMatrix = np.random.randint(0,500,(5,5))\n",
    "print(randMatrix)\n",
    "\n",
    "totalMax = np.amax(randMatrix)\n",
    "print(totalMax)\n",
    "\n",
    "#max of horizontal axis\n",
    "maxX = np.amax(randMatrix,1) #axis=1 means row\n",
    "print(maxX)\n",
    "\n",
    "#max of vertical axis\n",
    "maxY = np.amax(randMatrix, 0) #axis=0 means column\n",
    "print(maxY)"
   ]
  },
  {
   "cell_type": "markdown",
   "id": "0e534e01",
   "metadata": {},
   "source": [
    "## Exercici 4\n",
    "\n",
    "Mostreu-me amb exemples de diferents matrius, la regla fonamental de\n",
    "Broadcasting que diu : \"les matrius es poden transmetre / broadcast si \n",
    "les seves dimensions coincideixen o si una de les matrius té una mida d'1\"."
   ]
  },
  {
   "cell_type": "markdown",
   "id": "aae76de8",
   "metadata": {},
   "source": [
    "**Same shape arrays**"
   ]
  },
  {
   "cell_type": "code",
   "execution_count": 5,
   "id": "a42b0f28",
   "metadata": {},
   "outputs": [
    {
     "name": "stdout",
     "output_type": "stream",
     "text": [
      "[[2 9 0 2 5]\n",
      " [0 2 3 9 5]\n",
      " [2 7 8 0 7]\n",
      " [0 2 2 8 4]\n",
      " [1 3 5 4 3]]\n",
      "[[10 18  0  8 45]\n",
      " [ 0  2  6 36  5]\n",
      " [ 8 28  0  0 42]\n",
      " [ 0  0  0  8  0]\n",
      " [ 7 15 10  4  0]] [[ 7 11  5  6 14]\n",
      " [ 8  3  5 13  6]\n",
      " [ 6 11  8  1 13]\n",
      " [ 3  2  2  9  4]\n",
      " [ 8  8  7  5  3]]\n"
     ]
    }
   ],
   "source": [
    "mat1 = np.random.randint(0,10,(5,5))\n",
    "print(mat1)\n",
    "mat2 = np.random.randint(0,10,(5,5))\n",
    "print(mat1*mat2,mat1+mat2)"
   ]
  },
  {
   "cell_type": "markdown",
   "id": "9f7e64d9",
   "metadata": {},
   "source": [
    "**An array with an escalar**"
   ]
  },
  {
   "cell_type": "code",
   "execution_count": 6,
   "id": "8d0bd204",
   "metadata": {},
   "outputs": [
    {
     "name": "stdout",
     "output_type": "stream",
     "text": [
      "[[ 4 18  0  4 10]\n",
      " [ 0  4  6 18 10]\n",
      " [ 4 14 16  0 14]\n",
      " [ 0  4  4 16  8]\n",
      " [ 2  6 10  8  6]] [[25 22 25 24 29]\n",
      " [28 21 22 24 21]\n",
      " [24 24 20 21 26]\n",
      " [23 20 20 21 20]\n",
      " [27 25 22 21 20]]\n"
     ]
    }
   ],
   "source": [
    "#matrix with an escalar (an escalar is an array in the shape of (1,))\n",
    "print(mat1*2, mat2+20)"
   ]
  },
  {
   "cell_type": "markdown",
   "id": "a5bcd890",
   "metadata": {},
   "source": [
    "**matrix with other matrix, different shape**\n",
    "this will only work out if the size of each column is the same, or one of the arrays has one row\n",
    "exactly as long as all the rows of the other array, or has one column exactly as long as the columns\n",
    "of the other array.\n",
    "*Mat1 is a 5x5 array"
   ]
  },
  {
   "cell_type": "code",
   "execution_count": 7,
   "id": "1c2bc12e",
   "metadata": {},
   "outputs": [],
   "source": [
    "mat3 = np.random.randint(0,10,(5,1))#One column, so rows of 1 element. Each row of mat1 is multiplied by the element in the row of mat3\n",
    "mat3TimesMat1 = mat3 * mat1\n",
    "\n",
    "mat4 = np.random.randint(0,10,(1,5))#One row. Each row is multiplied by the row in mat4\n",
    "mat4TimesMat1 = mat1 * mat4"
   ]
  },
  {
   "cell_type": "markdown",
   "id": "1dc4121c",
   "metadata": {},
   "source": [
    "mat1 being a 5x5 matrix,\n",
    "when the size is not 1 or equal:\n",
    "    \n",
    "```python\n",
    "mat5 = np.random.randint(0,10,(2,5)), #two rows python cannot broadcast it\n",
    "\n",
    "mat5TimesMat1 = mat1 * mat5\n",
    "```\n",
    "\n",
    "THIS THROWS ERROR\n",
    "\n",
    "A more clear example\n",
    "\n",
    "```python\n",
    "mat6 = np.random.randint(0,10,(1,5)) \n",
    "mat7 = np.random.randint(0,10,(1,3)) \n",
    "\n",
    "mat7TimesMat6 = mat6 * mat7\n",
    "```\n",
    "\n",
    "THIS ALSO THROWS ERROR\n",
    "\n",
    "What about random things?\n",
    "\n",
    "```python\n",
    "mat8 = np.array([[1,2,3],[1,2,3],[1,2,3]])\n",
    "\n",
    "mat9 = np.array([[1,2]]) #However a [1,2,3] array could have been broadcast\n",
    "\n",
    "mat10 = mat8 * mat9\n",
    "```\n",
    "\n",
    "ALSO ERROR"
   ]
  },
  {
   "cell_type": "markdown",
   "id": "4d323617",
   "metadata": {},
   "source": [
    "## Exercici 5\n",
    "Utilitza la Indexació per extreure els valors d'una columna i una fila de la matriu. I suma els seus valors."
   ]
  },
  {
   "cell_type": "code",
   "execution_count": 8,
   "id": "8eab2576",
   "metadata": {},
   "outputs": [],
   "source": [
    "matrix1 = np.random.randint(0,10,(10,7))\n",
    "\n",
    "column0 = matrix1[:,0] \n",
    "\n",
    "row5 = matrix1[5,:]"
   ]
  },
  {
   "cell_type": "markdown",
   "id": "f8946b04",
   "metadata": {},
   "source": [
    "#rowPlusColumn = column0+row5 this would be a broadcast error, because the matrix is not square.\n",
    "#We could use something like fillWithZero if we wanted to add up both vectors."
   ]
  },
  {
   "cell_type": "code",
   "execution_count": 9,
   "id": "574baab6",
   "metadata": {},
   "outputs": [
    {
     "name": "stdout",
     "output_type": "stream",
     "text": [
      "87\n"
     ]
    }
   ],
   "source": [
    "rowPlusColumn = np.sum(column0) + np.sum(row5)\n",
    "print(rowPlusColumn)"
   ]
  },
  {
   "cell_type": "markdown",
   "id": "0e561822",
   "metadata": {},
   "source": [
    "## Exercici 6\n",
    "Mask la matriu anterior, realitzeu un càlcul booleà vectoritzat, agafant cada element i comprovant si es divideix uniformement per quatre.\n",
    "\n",
    "Això retorna una matriu de mask de la mateixa forma amb els resultats elementals del càlcul."
   ]
  },
  {
   "cell_type": "code",
   "execution_count": 10,
   "id": "876aa187",
   "metadata": {},
   "outputs": [
    {
     "name": "stdout",
     "output_type": "stream",
     "text": [
      "[[ True False False False  True False False]\n",
      " [False False False False False False False]\n",
      " [False False False False False False False]\n",
      " [ True False False False  True False  True]\n",
      " [False  True False  True  True False  True]\n",
      " [False False False False False False False]\n",
      " [ True False False  True  True False False]\n",
      " [False False False False False False False]\n",
      " [ True False  True  True False False False]\n",
      " [False  True  True False False False  True]]\n"
     ]
    }
   ],
   "source": [
    "#Dividir uniformement meaning the rest is 0?\n",
    "boolMatrix1 = (matrix1 % 4) == 0\n",
    "print(boolMatrix1)"
   ]
  },
  {
   "cell_type": "markdown",
   "id": "aa55a447",
   "metadata": {},
   "source": [
    "## Exercici 7\n",
    "A continuació, utilitzeu aquesta màscara per indexar a la matriu de números original. \n",
    "Això fa que la matriu perdi la seva forma original, reduint-la a una dimensió, però \n",
    "encara obteniu les dades que esteu cercant."
   ]
  },
  {
   "cell_type": "code",
   "execution_count": 11,
   "id": "77974953",
   "metadata": {},
   "outputs": [
    {
     "name": "stdout",
     "output_type": "stream",
     "text": [
      "[4 8 8 4 8 8 4 4 8 0 8 4 8 0 0 4 8 4]\n"
     ]
    }
   ],
   "source": [
    "#%% Ex7\n",
    "indexedMatrix = matrix1[boolMatrix1]\n",
    "print(indexedMatrix)"
   ]
  },
  {
   "cell_type": "code",
   "execution_count": null,
   "id": "be0a11b7",
   "metadata": {},
   "outputs": [],
   "source": []
  }
 ],
 "metadata": {
  "anaconda-cloud": {},
  "kernelspec": {
   "display_name": "Python 3 (ipykernel)",
   "language": "python",
   "name": "python3"
  },
  "language_info": {
   "codemirror_mode": {
    "name": "ipython",
    "version": 3
   },
   "file_extension": ".py",
   "mimetype": "text/x-python",
   "name": "python",
   "nbconvert_exporter": "python",
   "pygments_lexer": "ipython3",
   "version": "3.7.11"
  }
 },
 "nbformat": 4,
 "nbformat_minor": 5
}
