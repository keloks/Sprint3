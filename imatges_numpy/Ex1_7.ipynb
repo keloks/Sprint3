{
 "cells": [
  {
   "cell_type": "markdown",
   "id": "7daf4218",
   "metadata": {},
   "source": [
    "## Exercici 1\n",
    "Crea un np.array d'una dimensió, que inclogui l'almenys 8 nombres sencers, data type int64. Mostra la dimensió i la forma de la matriu. . "
   ]
  },
  {
   "cell_type": "code",
   "execution_count": 1,
   "id": "3bad97a4",
   "metadata": {},
   "outputs": [],
   "source": [
    "import numpy as np"
   ]
  },
  {
   "cell_type": "code",
   "execution_count": 2,
   "id": "25ed7375",
   "metadata": {},
   "outputs": [
    {
     "name": "stdout",
     "output_type": "stream",
     "text": [
      "[404 228 308 106 199 406 205  76  92  59  19 251 229]\n",
      "La dimensio de la matriu es 13\n"
     ]
    }
   ],
   "source": [
    "#%% Ex1\n",
    "\n",
    "#dimesio matriu\n",
    "dim = np.random.randint(8,15)\n",
    "\n",
    "#dtype = np.int64\n",
    "randArray = np.random.randint(0,500, size=dim, dtype = np.int64)\n",
    "\n",
    "print(randArray)\n",
    "print('La dimensio de la matriu es', randArray.shape[0])"
   ]
  },
  {
   "cell_type": "markdown",
   "id": "358e46d1",
   "metadata": {},
   "source": [
    "## Exercici 2\n",
    "De la matriu de l'exercici 1, calcula el valor mitjà dels valors introduïts i resta la mitjana resultant de cada un dels valors de la matriu."
   ]
  },
  {
   "cell_type": "code",
   "execution_count": 7,
   "id": "db7193ef",
   "metadata": {},
   "outputs": [
    {
     "name": "stdout",
     "output_type": "stream",
     "text": [
      "256.6666666666667\n",
      "[ 193.33333333 -136.66666667   57.33333333 -133.66666667  -23.66666667\n",
      "  -22.66666667  -29.66666667 -132.66666667  228.33333333]\n"
     ]
    }
   ],
   "source": [
    "#%% Ex2\n",
    "\n",
    "#mean\n",
    "mean = np.mean(randArray)\n",
    "print(mean)\n",
    "\n",
    "minusMean = randArray-mean\n",
    "print(minusMean)"
   ]
  },
  {
   "cell_type": "markdown",
   "id": "fd413acd",
   "metadata": {},
   "source": [
    "## Exercici 3\n",
    "Crea una matriu bidimensional amb una forma de 5 x 5. Extreu el valor màxim de la matriu, i els valors màxims de cadascun dels seus eixos."
   ]
  },
  {
   "cell_type": "code",
   "execution_count": 10,
   "id": "53911cc1",
   "metadata": {},
   "outputs": [
    {
     "name": "stdout",
     "output_type": "stream",
     "text": [
      "[[253 490 114 239  29]\n",
      " [339 491 393 375 409]\n",
      " [369 169 239 207  71]\n",
      " [ 92  89 388  71 447]\n",
      " [224 158  47 466  13]]\n",
      "491\n",
      "[490 491 369 447 466]\n",
      "[369 491 393 466 447]\n"
     ]
    }
   ],
   "source": [
    "#%% Ex3\n",
    "\n",
    "#in size pass a tuple. Matrix 5x5 ---> size=(5,5)\n",
    "randMatrix = np.random.randint(0,500,(5,5))\n",
    "print(randMatrix)\n",
    "\n",
    "totalMax = np.amax(randMatrix)\n",
    "print(totalMax)\n",
    "\n",
    "#max of horizontal axis\n",
    "maxX = np.amax(randMatrix,1) #axis=1 means row\n",
    "print(maxX)\n",
    "\n",
    "#max of vertical axis\n",
    "maxY = np.amax(randMatrix, 0) #axis=0 means column\n",
    "print(maxY)"
   ]
  },
  {
   "cell_type": "markdown",
   "id": "0e534e01",
   "metadata": {},
   "source": [
    "## Exercici 4\n",
    "\n",
    "Mostreu-me amb exemples de diferents matrius, la regla fonamental de\n",
    "Broadcasting que diu : \"les matrius es poden transmetre / broadcast si \n",
    "les seves dimensions coincideixen o si una de les matrius té una mida d'1\"."
   ]
  },
  {
   "cell_type": "markdown",
   "id": "aae76de8",
   "metadata": {},
   "source": [
    "**Same shape arrays**"
   ]
  },
  {
   "cell_type": "code",
   "execution_count": null,
   "id": "a42b0f28",
   "metadata": {},
   "outputs": [],
   "source": [
    "mat1 = np.random.randint(0,10,(5,5))\n",
    "print(mat1)\n",
    "mat2 = np.random.randint(0,10,(5,5))\n",
    "print(mat1*mat2,mat1+mat2)"
   ]
  },
  {
   "cell_type": "markdown",
   "id": "9f7e64d9",
   "metadata": {},
   "source": [
    "**An array with an escalar**"
   ]
  },
  {
   "cell_type": "code",
   "execution_count": null,
   "id": "8d0bd204",
   "metadata": {},
   "outputs": [],
   "source": [
    "#matrix with an escalar (an escalar is an array in the shape of (1,))\n",
    "print(mat1*2, mat2+20)"
   ]
  },
  {
   "cell_type": "markdown",
   "id": "a5bcd890",
   "metadata": {},
   "source": [
    "**matrix with other matrix, different shape**\n",
    "this will only work out if the size of each column is the same, or one of the arrays has one row\n",
    "exactly as long as all the rows of the other array, or has one column exactly as long as the columns\n",
    "of the other array.\n",
    "*Mat1 is a 5x5 array"
   ]
  },
  {
   "cell_type": "code",
   "execution_count": null,
   "id": "1c2bc12e",
   "metadata": {},
   "outputs": [],
   "source": [
    "mat3 = np.random.randint(0,10,(5,1))#One column, so rows of 1 element. Each row of mat1 is multiplied by the element in the row of mat3\n",
    "mat3TimesMat1 = mat3 * mat1\n",
    "\n",
    "mat4 = np.random.randint(0,10,(1,5))#One row. Each row is multiplied by the row in mat4\n",
    "mat4TimesMat1 = mat1 * mat4"
   ]
  },
  {
   "cell_type": "markdown",
   "id": "1dc4121c",
   "metadata": {},
   "source": [
    "mat1 being a 5x5 matrix,\n",
    "when the size is not 1 or equal:\n",
    "    \n",
    "```python\n",
    "mat5 = np.random.randint(0,10,(2,5)), #two rows python cannot broadcast it\n",
    "\n",
    "mat5TimesMat1 = mat1 * mat5\n",
    "```\n",
    "\n",
    "THIS THROWS ERROR\n",
    "\n",
    "A more clear example\n",
    "\n",
    "```python\n",
    "mat6 = np.random.randint(0,10,(1,5)) \n",
    "mat7 = np.random.randint(0,10,(1,3)) \n",
    "\n",
    "mat7TimesMat6 = mat6 * mat7\n",
    "```\n",
    "\n",
    "THIS ALSO THROWS ERROR\n",
    "\n",
    "What about random things?\n",
    "\n",
    "```python\n",
    "mat8 = np.array([[1,2,3],[1,2,3],[1,2,3]])\n",
    "\n",
    "mat9 = np.array([[1,2]]) #However a [1,2,3] array could have been broadcast\n",
    "\n",
    "mat10 = mat8 * mat9\n",
    "```\n",
    "\n",
    "ALSO ERROR"
   ]
  },
  {
   "cell_type": "markdown",
   "id": "4d323617",
   "metadata": {},
   "source": [
    "## Exercici 5\n",
    "Utilitza la Indexació per extreure els valors d'una columna i una fila de la matriu. I suma els seus valors."
   ]
  },
  {
   "cell_type": "code",
   "execution_count": null,
   "id": "8eab2576",
   "metadata": {},
   "outputs": [],
   "source": [
    "matrix1 = np.random.randint(0,10,(10,7))\n",
    "\n",
    "column0 = matrix1[:,0] \n",
    "\n",
    "row5 = matrix1[5,:]"
   ]
  },
  {
   "cell_type": "markdown",
   "id": "f8946b04",
   "metadata": {},
   "source": [
    "#rowPlusColumn = column0+row5 this would be a broadcast error, because the matrix is not square.\n",
    "#We could use something like fillWithZero if we wanted to add up both vectors."
   ]
  },
  {
   "cell_type": "code",
   "execution_count": 13,
   "id": "574baab6",
   "metadata": {},
   "outputs": [
    {
     "name": "stdout",
     "output_type": "stream",
     "text": [
      "69\n"
     ]
    }
   ],
   "source": [
    "rowPlusColumn = np.sum(column0) + np.sum(row5)\n",
    "print(rowPlusColumn)"
   ]
  },
  {
   "cell_type": "markdown",
   "id": "0e561822",
   "metadata": {},
   "source": [
    "## Exercici 6\n",
    "Mask la matriu anterior, realitzeu un càlcul booleà vectoritzat, agafant cada element i comprovant si es divideix uniformement per quatre.\n",
    "\n",
    "Això retorna una matriu de mask de la mateixa forma amb els resultats elementals del càlcul."
   ]
  },
  {
   "cell_type": "code",
   "execution_count": 14,
   "id": "876aa187",
   "metadata": {},
   "outputs": [
    {
     "name": "stdout",
     "output_type": "stream",
     "text": [
      "[[False False False False False  True  True]\n",
      " [False False  True  True  True False False]\n",
      " [False False False  True False False False]\n",
      " [False  True  True False False False False]\n",
      " [False  True  True False False  True  True]\n",
      " [ True False False False False False False]\n",
      " [ True  True  True  True  True False False]\n",
      " [False False False False  True False False]\n",
      " [ True False  True False False  True False]\n",
      " [False False False False  True  True  True]]\n"
     ]
    }
   ],
   "source": [
    "#Dividir uniformement meaning the rest is 0?\n",
    "boolMatrix1 = (matrix1 % 4) == 0\n",
    "print(boolMatrix1)"
   ]
  },
  {
   "cell_type": "markdown",
   "id": "aa55a447",
   "metadata": {},
   "source": [
    "## Exercici 7\n",
    "A continuació, utilitzeu aquesta màscara per indexar a la matriu de números original. \n",
    "Això fa que la matriu perdi la seva forma original, reduint-la a una dimensió, però \n",
    "encara obteniu les dades que esteu cercant."
   ]
  },
  {
   "cell_type": "code",
   "execution_count": 15,
   "id": "77974953",
   "metadata": {},
   "outputs": [
    {
     "name": "stdout",
     "output_type": "stream",
     "text": [
      "[8 4 0 4 4 8 8 8 8 0 4 0 8 4 0 4 0 8 4 0 8 4 0 4 0]\n"
     ]
    }
   ],
   "source": [
    "#%% Ex7\n",
    "indexedMatrix = matrix1[boolMatrix1]\n",
    "print(indexedMatrix)"
   ]
  },
  {
   "cell_type": "code",
   "execution_count": null,
   "id": "be0a11b7",
   "metadata": {},
   "outputs": [],
   "source": []
  }
 ],
 "metadata": {
  "anaconda-cloud": {},
  "kernelspec": {
   "display_name": "Python 3 (ipykernel)",
   "language": "python",
   "name": "python3"
  },
  "language_info": {
   "codemirror_mode": {
    "name": "ipython",
    "version": 3
   },
   "file_extension": ".py",
   "mimetype": "text/x-python",
   "name": "python",
   "nbconvert_exporter": "python",
   "pygments_lexer": "ipython3",
   "version": "3.7.11"
  }
 },
 "nbformat": 4,
 "nbformat_minor": 5
}
